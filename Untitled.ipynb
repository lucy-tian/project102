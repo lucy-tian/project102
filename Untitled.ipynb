{
 "cells": [
  {
   "cell_type": "code",
   "execution_count": 10,
   "id": "e6ebd223",
   "metadata": {},
   "outputs": [],
   "source": [
    "import requests\n",
    "import pandas as pd"
   ]
  },
  {
   "cell_type": "code",
   "execution_count": 24,
   "id": "ed05a50c",
   "metadata": {},
   "outputs": [
    {
     "name": "stdout",
     "output_type": "stream",
     "text": [
      "     year       date  statefips  countyfips       ctfips  latitude  longitude  \\\n",
      "0    2012 2012-06-09         12       12087  12087972600  24.54941  -81.79179   \n",
      "1    2012 2012-06-09         12       12087  12087972400  24.55265  -81.79997   \n",
      "2    2012 2012-06-09         12       12087  12087972300  24.55602  -81.79279   \n",
      "3    2012 2012-06-09         12       12087  12087972000  24.55621  -81.76469   \n",
      "4    2012 2012-06-09         12       12087  12087972200  24.55726  -81.78251   \n",
      "..    ...        ...        ...         ...          ...       ...        ...   \n",
      "995  2012 2012-06-09         12       12011  12011031202  26.21746  -80.09394   \n",
      "996  2012 2012-06-09         12       12011  12011020406  26.21905  -80.24659   \n",
      "997  2012 2012-06-09         12       12011  12011020411  26.21908  -80.26198   \n",
      "998  2012 2012-06-09         12       12011  12011020409  26.21944  -80.29152   \n",
      "999  2012 2012-06-09         48       48215  48215021901  26.21954  -98.10479   \n",
      "\n",
      "     ds_pm_pred  ds_pm_stdd  \n",
      "0        6.0025      2.4889  \n",
      "1        5.9064      2.4722  \n",
      "2        5.9158      2.6140  \n",
      "3        5.9323      2.4919  \n",
      "4        6.0053      2.6412  \n",
      "..          ...         ...  \n",
      "995      6.5494      1.8754  \n",
      "996      7.3126      2.0215  \n",
      "997      7.2817      1.9832  \n",
      "998      7.2351      2.0086  \n",
      "999      4.8550      2.2443  \n",
      "\n",
      "[1000 rows x 9 columns]\n"
     ]
    }
   ],
   "source": [
    "data2=pd.read_json(\"https://data.cdc.gov/resource/fcqm-xrf4.json?date=09JUN2012\")\n",
    "print(data2)"
   ]
  },
  {
   "cell_type": "code",
   "execution_count": null,
   "id": "dcd95ba0",
   "metadata": {},
   "outputs": [],
   "source": []
  }
 ],
 "metadata": {
  "kernelspec": {
   "display_name": "Python 3 (ipykernel)",
   "language": "python",
   "name": "python3"
  },
  "language_info": {
   "codemirror_mode": {
    "name": "ipython",
    "version": 3
   },
   "file_extension": ".py",
   "mimetype": "text/x-python",
   "name": "python",
   "nbconvert_exporter": "python",
   "pygments_lexer": "ipython3",
   "version": "3.9.7"
  }
 },
 "nbformat": 4,
 "nbformat_minor": 5
}
