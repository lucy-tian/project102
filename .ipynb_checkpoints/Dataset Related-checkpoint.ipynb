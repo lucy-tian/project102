{
 "cells": [
  {
   "cell_type": "code",
   "execution_count": 1,
   "id": "e6ebd223",
   "metadata": {},
   "outputs": [],
   "source": [
    "import requests\n",
    "import pandas as pd\n",
    "import datetime\n",
    "from geopy.geocoders import Nominatim"
   ]
  },
  {
   "cell_type": "code",
   "execution_count": null,
   "id": "9ffb693d",
   "metadata": {},
   "outputs": [],
   "source": [
    "# We first need to generate a list of formatted dates\n",
    "start = datetime.datetime.strptime(\"01Jan2011\", \"%d%b%Y\")\n",
    "end = datetime.datetime.strptime(\"01Jan2015\",\"%d%b%Y\")\n",
    "date_generated = [start + datetime.timedelta(days=x) for x in range(0, (end-start).days)]\n",
    "date_formatted = []\n",
    "\n",
    "for date in date_generated:\n",
    "    date_formatted.append(date.strftime(\"%d%^b%Y\"))"
   ]
  },
  {
   "cell_type": "code",
   "execution_count": null,
   "id": "732e087f",
   "metadata": {},
   "outputs": [],
   "source": [
    "# This is one example of how to retrieve data by API for a given date. We choose ds_pm_pred (Mean estimated 24-hour average PM2.5 concentration) as the data.\n",
    "data = pd.read_json(\"https://data.cdc.gov/resource/fcqm-xrf4.json?date=02JAN2011&$select=DISTINCT(statefips),ds_pm_pred,date\")\n",
    "data_grouped = data.groupby(by=['statefips_1']).mean().reset_index().sort_values(by='statefips_1')"
   ]
  },
  {
   "cell_type": "code",
   "execution_count": null,
   "id": "2088a0a8",
   "metadata": {},
   "outputs": [],
   "source": [
    "# Get the statefips index list\n",
    "statefip_list = data_grouped['statefips_1']"
   ]
  },
  {
   "cell_type": "markdown",
   "id": "86de5655",
   "metadata": {},
   "source": [
    "### We will first start loading the data for PM2.5:"
   ]
  },
  {
   "cell_type": "markdown",
   "id": "4bd3ce52",
   "metadata": {},
   "source": [
    "- **Dataset Link:** https://data.cdc.gov/Environmental-Health-Toxicology/Daily-Census-Tract-Level-PM2-5-Concentrations-2011/fcqm-xrf4\n",
    "- **Brief description of the dataset:** \"This dataset provides modeled predictions of PM2.5 levels from the EPA's Downscaler model. Data are at the census tract level for 2011-2014. These data are used by the CDC's National Environmental Public Health Tracking Network to generate air quality measures. Census tract-level datasets contain estimates of the mean predicted concentration and associated standard error. Please refer to the metadata attachment for more information.\" *(Quoted from CDC official Website)*"
   ]
  },
  {
   "cell_type": "markdown",
   "id": "d8634087",
   "metadata": {},
   "source": [
    "The below cell is the code to loop through every date starting from January 1, 2011 to December 21, 2014 and retrieve the data we need. I would take the mean of all recorded PM2.5 data of one state for one particular date. This cell will take a long time to run, so I would comment this out in the report."
   ]
  },
  {
   "cell_type": "code",
   "execution_count": null,
   "id": "d52b1918",
   "metadata": {},
   "outputs": [],
   "source": [
    "result_df = pd.DataFrame()\n",
    "result_df['statefip'] = statefip_list\n",
    "for date in date_formatted:\n",
    "    data = pd.read_json(\"https://data.cdc.gov/resource/fcqm-xrf4.json?date={}&$select=DISTINCT(statefips),ds_pm_pred\".format(date))\n",
    "    data_grouped = data.groupby(by=['statefips_1']).mean().reset_index().sort_values(by='statefips_1')\n",
    "    result_df[date]=data_grouped['ds_pm_pred']\n",
    "    \n",
    "result_PM25 = result_df.to_csv('PM25.csv')"
   ]
  },
  {
   "cell_type": "code",
   "execution_count": 5,
   "id": "ab37a39a",
   "metadata": {},
   "outputs": [
    {
     "name": "stdout",
     "output_type": "stream",
     "text": [
      "Index(['Unnamed: 0', 'statefip', '01JAN2011', '02JAN2011', '03JAN2011',\n",
      "       '04JAN2011', '05JAN2011', '06JAN2011', '07JAN2011', '08JAN2011',\n",
      "       ...\n",
      "       '22DEC2014', '23DEC2014', '24DEC2014', '25DEC2014', '26DEC2014',\n",
      "       '27DEC2014', '28DEC2014', '29DEC2014', '30DEC2014', '31DEC2014'],\n",
      "      dtype='object', length=1463)\n"
     ]
    }
   ],
   "source": [
    "PM25_data = pd.read_csv('PM25.csv')\n",
    "print(PM25_data.columns)"
   ]
  },
  {
   "cell_type": "markdown",
   "id": "e1fde457",
   "metadata": {},
   "source": [
    "- **Data Dictionary:** This dataframe is very simple. The 'statefip' column stands for the unique code for state in U.S. The rest of columns stand for the recorded average PM2.5 level for each state on the given date."
   ]
  },
  {
   "cell_type": "markdown",
   "id": "f2c8d900",
   "metadata": {},
   "source": [
    "### Then, use the same trick to load the data for Ozone:"
   ]
  },
  {
   "cell_type": "markdown",
   "id": "bad77409",
   "metadata": {},
   "source": [
    "- **Dataset Link:** https://data.cdc.gov/Environmental-Health-Toxicology/Daily-Census-Tract-Level-Ozone-Concentrations-2011/372p-dx3h\n",
    "- **Brief description of the dataset:** \"This dataset provides modeled predictions of ozone levels from the EPA's Downscaler model. Data are at the census tract level for 2011-2014. These data are used by the CDC's National Environmental Public Health Tracking Network to generate air quality measures. Census tract-level datasets contain estimates of the mean predicted concentration and associated standard error. Please refer to the metadata attachment for more information.\"*(Quoted from CDC official Website)*"
   ]
  },
  {
   "cell_type": "code",
   "execution_count": null,
   "id": "c814494d",
   "metadata": {},
   "outputs": [],
   "source": [
    "result_df_ozone = pd.DataFrame()\n",
    "result_df_ozone['statefip'] = statefip_list\n",
    "for date in date_formatted:\n",
    "    data = pd.read_json(\"https://data.cdc.gov/resource/372p-dx3h.json?date={}&$select=DISTINCT(statefips),ds_o3_pred\".format(date))\n",
    "    data_grouped = data.groupby(by=['statefips_1']).mean().reset_index().sort_values(by='statefips_1')\n",
    "    result_df_ozone[date]=data_grouped['ds_o3_pred']\n",
    "\n",
    "result_ozone = result_df_ozone.to_csv('ozone.csv')"
   ]
  },
  {
   "cell_type": "markdown",
   "id": "609ec646",
   "metadata": {},
   "source": [
    "- **Data Dictionary:** This dataframe is very simple. The 'statefip' column stands for the unique code for state in U.S. The rest of columns stand for the recorded average Ozone level for each state on the given date."
   ]
  },
  {
   "cell_type": "markdown",
   "id": "727bf1d0",
   "metadata": {},
   "source": [
    "Since the above two datasets are very large and it takes about 30 minutes to run the above code, we decided to generate a cleaned csv for each and later we would directly read those two csvs."
   ]
  },
  {
   "cell_type": "markdown",
   "id": "bff67918",
   "metadata": {},
   "source": [
    "### Finally, we want to clean the data for Asthma data."
   ]
  },
  {
   "cell_type": "markdown",
   "id": "6b053b54",
   "metadata": {},
   "source": [
    "- **Dataset Link:** https://chronicdata.cdc.gov/Chronic-Disease-Indicators/U-S-Chronic-Disease-Indicators-Asthma/us8e-ubyj\n",
    "- **Brief description of the dataset:** \"CDC's Division of Population Health provides cross-cutting set of 124 indicators that were developed by consensus and that allows states and territories and large metropolitan areas to uniformly define, collect, and report chronic disease data that are important to public health practice and available for states, territories and large metropolitan areas. In addition to providing access to state-specific indicator data, the CDI web site serves as a gateway to additional information and data resources.\"*(Quoted from CDC official Website)*"
   ]
  },
  {
   "cell_type": "code",
   "execution_count": 6,
   "id": "cefbde43",
   "metadata": {},
   "outputs": [
    {
     "name": "stdout",
     "output_type": "stream",
     "text": [
      "Index(['YearStart', 'YearEnd', 'LocationAbbr', 'LocationDesc', 'DataSource',\n",
      "       'Topic', 'Question', 'Response', 'DataValueUnit', 'DataValueType',\n",
      "       'DataValue', 'DataValueAlt', 'DataValueFootnoteSymbol',\n",
      "       'DatavalueFootnote', 'LowConfidenceLimit', 'HighConfidenceLimit',\n",
      "       'StratificationCategory1', 'Stratification1', 'StratificationCategory2',\n",
      "       'Stratification2', 'StratificationCategory3', 'Stratification3',\n",
      "       'ResponseID', 'LocationID', 'TopicID', 'QuestionID', 'DataValueTypeID',\n",
      "       'StratificationCategoryID1', 'StratificationID1',\n",
      "       'StratificationCategoryID2', 'StratificationID2',\n",
      "       'StratificationCategoryID3', 'StratificationID3'],\n",
      "      dtype='object')\n"
     ]
    },
    {
     "name": "stderr",
     "output_type": "stream",
     "text": [
      "/opt/conda/lib/python3.9/site-packages/IPython/core/interactiveshell.py:3444: DtypeWarning: Columns (11) have mixed types.Specify dtype option on import or set low_memory=False.\n",
      "  exec(code_obj, self.user_global_ns, self.user_ns)\n"
     ]
    }
   ],
   "source": [
    "asthma = pd.read_csv('Asthma.csv')\n",
    "print(asthma.columns)"
   ]
  },
  {
   "cell_type": "code",
   "execution_count": 8,
   "id": "56b463c7",
   "metadata": {
    "scrolled": true
   },
   "outputs": [
    {
     "data": {
      "text/html": [
       "<div>\n",
       "<style scoped>\n",
       "    .dataframe tbody tr th:only-of-type {\n",
       "        vertical-align: middle;\n",
       "    }\n",
       "\n",
       "    .dataframe tbody tr th {\n",
       "        vertical-align: top;\n",
       "    }\n",
       "\n",
       "    .dataframe thead th {\n",
       "        text-align: right;\n",
       "    }\n",
       "</style>\n",
       "<table border=\"1\" class=\"dataframe\">\n",
       "  <thead>\n",
       "    <tr style=\"text-align: right;\">\n",
       "      <th></th>\n",
       "      <th>Year</th>\n",
       "      <th>State</th>\n",
       "      <th>Prevalance</th>\n",
       "      <th>StratificationCategory</th>\n",
       "      <th>Stratification</th>\n",
       "    </tr>\n",
       "  </thead>\n",
       "  <tbody>\n",
       "    <tr>\n",
       "      <th>22732</th>\n",
       "      <td>2011</td>\n",
       "      <td>Alabama</td>\n",
       "      <td>8.0</td>\n",
       "      <td>Overall</td>\n",
       "      <td>Overall</td>\n",
       "    </tr>\n",
       "    <tr>\n",
       "      <th>22774</th>\n",
       "      <td>2011</td>\n",
       "      <td>Alabama</td>\n",
       "      <td>0.0</td>\n",
       "      <td>Race/Ethnicity</td>\n",
       "      <td>Multiracial, non-Hispanic</td>\n",
       "    </tr>\n",
       "    <tr>\n",
       "      <th>22938</th>\n",
       "      <td>2011</td>\n",
       "      <td>Alabama</td>\n",
       "      <td>0.0</td>\n",
       "      <td>Race/Ethnicity</td>\n",
       "      <td>Hispanic</td>\n",
       "    </tr>\n",
       "    <tr>\n",
       "      <th>22997</th>\n",
       "      <td>2011</td>\n",
       "      <td>Alabama</td>\n",
       "      <td>0.0</td>\n",
       "      <td>Race/Ethnicity</td>\n",
       "      <td>Multiracial, non-Hispanic</td>\n",
       "    </tr>\n",
       "    <tr>\n",
       "      <th>23067</th>\n",
       "      <td>2011</td>\n",
       "      <td>Alabama</td>\n",
       "      <td>8.0</td>\n",
       "      <td>Overall</td>\n",
       "      <td>Overall</td>\n",
       "    </tr>\n",
       "  </tbody>\n",
       "</table>\n",
       "</div>"
      ],
      "text/plain": [
       "       Year    State  Prevalance StratificationCategory  \\\n",
       "22732  2011  Alabama         8.0                Overall   \n",
       "22774  2011  Alabama         0.0         Race/Ethnicity   \n",
       "22938  2011  Alabama         0.0         Race/Ethnicity   \n",
       "22997  2011  Alabama         0.0         Race/Ethnicity   \n",
       "23067  2011  Alabama         8.0                Overall   \n",
       "\n",
       "                  Stratification  \n",
       "22732                    Overall  \n",
       "22774  Multiracial, non-Hispanic  \n",
       "22938                   Hispanic  \n",
       "22997  Multiracial, non-Hispanic  \n",
       "23067                    Overall  "
      ]
     },
     "execution_count": 8,
     "metadata": {},
     "output_type": "execute_result"
    }
   ],
   "source": [
    "asthma_cleaned = asthma[['YearStart','LocationDesc','Question','DataValue','StratificationCategory1','Stratification1']]\n",
    "asthma_cleaned = asthma_cleaned[asthma_cleaned['Question']=='Current asthma prevalence among adults aged >= 18 years'].drop(['Question'],axis=1)\n",
    "asthma_cleaned = asthma_cleaned[(asthma_cleaned['YearStart']>=2011)&(asthma_cleaned['YearStart']<=2014)]\n",
    "asthma_cleaned = asthma_cleaned.rename(columns={'YearStart':'Year','LocationDesc':'State','DataValue':'Prevalance','StratificationCategory1':'StratificationCategory','Stratification1':'Stratification'})\n",
    "asthma_sorted = asthma_cleaned.sort_values(by=['Year','State']).fillna(0)\n",
    "asthma_sorted.head(5)"
   ]
  },
  {
   "cell_type": "markdown",
   "id": "243ff37e",
   "metadata": {},
   "source": [
    "- **Data Dictionary:** For the asthma dataset, each row represents the prevalence of asthma of a given state at a given year filtered by a specific stratification category, like a particular race or a particular gender. \n",
    "\n",
    "*Note: Some of the columns are not that important. I omit them in this section directly.*"
   ]
  },
  {
   "cell_type": "code",
   "execution_count": 12,
   "id": "9f6d51f2",
   "metadata": {},
   "outputs": [
    {
     "data": {
      "text/html": [
       "<div>\n",
       "<style scoped>\n",
       "    .dataframe tbody tr th:only-of-type {\n",
       "        vertical-align: middle;\n",
       "    }\n",
       "\n",
       "    .dataframe tbody tr th {\n",
       "        vertical-align: top;\n",
       "    }\n",
       "\n",
       "    .dataframe thead th {\n",
       "        text-align: right;\n",
       "    }\n",
       "</style>\n",
       "<table border=\"1\" class=\"dataframe\">\n",
       "  <thead>\n",
       "    <tr style=\"text-align: right;\">\n",
       "      <th></th>\n",
       "      <th>Column</th>\n",
       "      <th>Meaning</th>\n",
       "    </tr>\n",
       "  </thead>\n",
       "  <tbody>\n",
       "    <tr>\n",
       "      <th>0</th>\n",
       "      <td>Year</td>\n",
       "      <td>Year</td>\n",
       "    </tr>\n",
       "    <tr>\n",
       "      <th>1</th>\n",
       "      <td>State</td>\n",
       "      <td>State</td>\n",
       "    </tr>\n",
       "    <tr>\n",
       "      <th>2</th>\n",
       "      <td>Prevalence</td>\n",
       "      <td>Prevalence Data</td>\n",
       "    </tr>\n",
       "    <tr>\n",
       "      <th>3</th>\n",
       "      <td>StratificationCategory</td>\n",
       "      <td>Overall/Race/Gender</td>\n",
       "    </tr>\n",
       "    <tr>\n",
       "      <th>4</th>\n",
       "      <td>Stratification</td>\n",
       "      <td>Detailed Stratification based on the above column</td>\n",
       "    </tr>\n",
       "  </tbody>\n",
       "</table>\n",
       "</div>"
      ],
      "text/plain": [
       "                   Column                                            Meaning\n",
       "0                    Year                                               Year\n",
       "1                   State                                              State\n",
       "2              Prevalence                                    Prevalence Data\n",
       "3  StratificationCategory                                Overall/Race/Gender\n",
       "4          Stratification  Detailed Stratification based on the above column"
      ]
     },
     "execution_count": 12,
     "metadata": {},
     "output_type": "execute_result"
    }
   ],
   "source": [
    "asthma_dictionary = pd.DataFrame({'Column':['Year','State','Prevalence','StratificationCategory','Stratification'],\n",
    "                                  'Meaning':['Year','State','Prevalence Data','Overall/Race/Gender','Detailed Stratification based on the above column']})\n",
    "asthma_dictionary.head(5)"
   ]
  },
  {
   "cell_type": "markdown",
   "id": "550e3635",
   "metadata": {},
   "source": [
    "### Now, it's time to start our project."
   ]
  },
  {
   "cell_type": "code",
   "execution_count": null,
   "id": "cba0943c",
   "metadata": {},
   "outputs": [],
   "source": []
  }
 ],
 "metadata": {
  "kernelspec": {
   "display_name": "Python 3 (ipykernel)",
   "language": "python",
   "name": "python3"
  },
  "language_info": {
   "codemirror_mode": {
    "name": "ipython",
    "version": 3
   },
   "file_extension": ".py",
   "mimetype": "text/x-python",
   "name": "python",
   "nbconvert_exporter": "python",
   "pygments_lexer": "ipython3",
   "version": "3.9.7"
  }
 },
 "nbformat": 4,
 "nbformat_minor": 5
}
