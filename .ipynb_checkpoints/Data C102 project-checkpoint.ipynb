{
 "cells": [
  {
   "cell_type": "code",
   "execution_count": 1,
   "metadata": {},
   "outputs": [],
   "source": [
    "import requests\n",
    "\n",
    "import numpy as np \n",
    "import pandas as pd\n",
    "from matplotlib import pyplot as plt\n",
    "import seaborn as sns\n",
    "from mpl_toolkits.mplot3d import Axes3D\n",
    "import time\n",
    "import datetime\n",
    "\n",
    "import os\n",
    "import pandas as pd\n",
    "import numpy as np\n",
    "import seaborn as sns\n",
    "import matplotlib.pyplot as plt\n",
    "%matplotlib inline\n",
    "\n",
    "import plotly.express as px\n",
    "import numpy as np\n",
    "import pandas as pd\n",
    "import statsmodels.api as sm\n",
    "\n",
    "from sklearn.model_selection import train_test_split\n",
    "from sklearn.pipeline import Pipeline\n",
    "from sklearn.compose import ColumnTransformer\n",
    "from sklearn.preprocessing import FunctionTransformer\n",
    "from sklearn.impute import SimpleImputer\n",
    "from sklearn.linear_model import LinearRegression\n",
    "from sklearn.model_selection import cross_val_score\n",
    "\n",
    "import plotly.offline as py\n",
    "import plotly.express as px\n",
    "import plotly.graph_objects as go\n",
    "from plotly.subplots import make_subplots\n",
    "import plotly.figure_factory as ff\n",
    "from scipy.stats import bernoulli\n",
    "\n",
    "import numpy as np\n",
    "from scipy import stats"
   ]
  },
  {
   "cell_type": "markdown",
   "metadata": {},
   "source": [
    "## Introduction"
   ]
  },
  {
   "cell_type": "markdown",
   "metadata": {},
   "source": [
    "Our project will address two research questions: \n",
    "\n",
    "1) What is the causal impact of PM 2.5 and Ozone level on the crude prevalence of asthma? \n",
    "\n",
    "2) Given the selected features, what will the prevalence and mortality rate of asthma be like in the future (ie. predict the prevalence and mortality rate of asthma in the future)?\n",
    "\n",
    "We will mainly be using three datasets: \n",
    "\n",
    "1) Annual State-Level U.S. Chronic Disease Indicators filtered for asthma \n",
    "\n",
    "2) Modified PM2.5 dataset \n",
    "\n",
    "3) Modified ozone dataset \n",
    "\n",
    "(We computed the daily mean PM2.5 and ozone level for each state due to the large size of the two datasets)"
   ]
  },
  {
   "cell_type": "code",
   "execution_count": 2,
   "metadata": {
    "scrolled": true
   },
   "outputs": [
    {
     "name": "stderr",
     "output_type": "stream",
     "text": [
      "/opt/conda/lib/python3.9/site-packages/IPython/core/interactiveshell.py:3444: DtypeWarning:\n",
      "\n",
      "Columns (11) have mixed types.Specify dtype option on import or set low_memory=False.\n",
      "\n"
     ]
    },
    {
     "data": {
      "text/html": [
       "<div>\n",
       "<style scoped>\n",
       "    .dataframe tbody tr th:only-of-type {\n",
       "        vertical-align: middle;\n",
       "    }\n",
       "\n",
       "    .dataframe tbody tr th {\n",
       "        vertical-align: top;\n",
       "    }\n",
       "\n",
       "    .dataframe thead th {\n",
       "        text-align: right;\n",
       "    }\n",
       "</style>\n",
       "<table border=\"1\" class=\"dataframe\">\n",
       "  <thead>\n",
       "    <tr style=\"text-align: right;\">\n",
       "      <th></th>\n",
       "      <th>YearStart</th>\n",
       "      <th>YearEnd</th>\n",
       "      <th>LocationAbbr</th>\n",
       "      <th>LocationDesc</th>\n",
       "      <th>DataSource</th>\n",
       "      <th>Topic</th>\n",
       "      <th>Question</th>\n",
       "      <th>Response</th>\n",
       "      <th>DataValueUnit</th>\n",
       "      <th>DataValueType</th>\n",
       "      <th>...</th>\n",
       "      <th>LocationID</th>\n",
       "      <th>TopicID</th>\n",
       "      <th>QuestionID</th>\n",
       "      <th>DataValueTypeID</th>\n",
       "      <th>StratificationCategoryID1</th>\n",
       "      <th>StratificationID1</th>\n",
       "      <th>StratificationCategoryID2</th>\n",
       "      <th>StratificationID2</th>\n",
       "      <th>StratificationCategoryID3</th>\n",
       "      <th>StratificationID3</th>\n",
       "    </tr>\n",
       "  </thead>\n",
       "  <tbody>\n",
       "    <tr>\n",
       "      <th>0</th>\n",
       "      <td>2012</td>\n",
       "      <td>2012</td>\n",
       "      <td>AL</td>\n",
       "      <td>Alabama</td>\n",
       "      <td>NVSS</td>\n",
       "      <td>Asthma</td>\n",
       "      <td>Asthma mortality rate</td>\n",
       "      <td>NaN</td>\n",
       "      <td>NaN</td>\n",
       "      <td>Number</td>\n",
       "      <td>...</td>\n",
       "      <td>1</td>\n",
       "      <td>AST</td>\n",
       "      <td>AST4_1</td>\n",
       "      <td>NMBR</td>\n",
       "      <td>GENDER</td>\n",
       "      <td>GENF</td>\n",
       "      <td>NaN</td>\n",
       "      <td>NaN</td>\n",
       "      <td>NaN</td>\n",
       "      <td>NaN</td>\n",
       "    </tr>\n",
       "    <tr>\n",
       "      <th>1</th>\n",
       "      <td>2014</td>\n",
       "      <td>2014</td>\n",
       "      <td>AL</td>\n",
       "      <td>Alabama</td>\n",
       "      <td>NVSS</td>\n",
       "      <td>Asthma</td>\n",
       "      <td>Asthma mortality rate</td>\n",
       "      <td>NaN</td>\n",
       "      <td>NaN</td>\n",
       "      <td>Number</td>\n",
       "      <td>...</td>\n",
       "      <td>1</td>\n",
       "      <td>AST</td>\n",
       "      <td>AST4_1</td>\n",
       "      <td>NMBR</td>\n",
       "      <td>GENDER</td>\n",
       "      <td>GENM</td>\n",
       "      <td>NaN</td>\n",
       "      <td>NaN</td>\n",
       "      <td>NaN</td>\n",
       "      <td>NaN</td>\n",
       "    </tr>\n",
       "    <tr>\n",
       "      <th>2</th>\n",
       "      <td>2011</td>\n",
       "      <td>2011</td>\n",
       "      <td>AZ</td>\n",
       "      <td>Arizona</td>\n",
       "      <td>NVSS</td>\n",
       "      <td>Asthma</td>\n",
       "      <td>Asthma mortality rate</td>\n",
       "      <td>NaN</td>\n",
       "      <td>NaN</td>\n",
       "      <td>Number</td>\n",
       "      <td>...</td>\n",
       "      <td>4</td>\n",
       "      <td>AST</td>\n",
       "      <td>AST4_1</td>\n",
       "      <td>NMBR</td>\n",
       "      <td>GENDER</td>\n",
       "      <td>GENM</td>\n",
       "      <td>NaN</td>\n",
       "      <td>NaN</td>\n",
       "      <td>NaN</td>\n",
       "      <td>NaN</td>\n",
       "    </tr>\n",
       "    <tr>\n",
       "      <th>3</th>\n",
       "      <td>2015</td>\n",
       "      <td>2015</td>\n",
       "      <td>CT</td>\n",
       "      <td>Connecticut</td>\n",
       "      <td>NVSS</td>\n",
       "      <td>Asthma</td>\n",
       "      <td>Asthma mortality rate</td>\n",
       "      <td>NaN</td>\n",
       "      <td>NaN</td>\n",
       "      <td>Number</td>\n",
       "      <td>...</td>\n",
       "      <td>9</td>\n",
       "      <td>AST</td>\n",
       "      <td>AST4_1</td>\n",
       "      <td>NMBR</td>\n",
       "      <td>GENDER</td>\n",
       "      <td>GENF</td>\n",
       "      <td>NaN</td>\n",
       "      <td>NaN</td>\n",
       "      <td>NaN</td>\n",
       "      <td>NaN</td>\n",
       "    </tr>\n",
       "    <tr>\n",
       "      <th>4</th>\n",
       "      <td>2011</td>\n",
       "      <td>2011</td>\n",
       "      <td>FL</td>\n",
       "      <td>Florida</td>\n",
       "      <td>NVSS</td>\n",
       "      <td>Asthma</td>\n",
       "      <td>Asthma mortality rate</td>\n",
       "      <td>NaN</td>\n",
       "      <td>NaN</td>\n",
       "      <td>Number</td>\n",
       "      <td>...</td>\n",
       "      <td>12</td>\n",
       "      <td>AST</td>\n",
       "      <td>AST4_1</td>\n",
       "      <td>NMBR</td>\n",
       "      <td>GENDER</td>\n",
       "      <td>GENM</td>\n",
       "      <td>NaN</td>\n",
       "      <td>NaN</td>\n",
       "      <td>NaN</td>\n",
       "      <td>NaN</td>\n",
       "    </tr>\n",
       "  </tbody>\n",
       "</table>\n",
       "<p>5 rows × 33 columns</p>\n",
       "</div>"
      ],
      "text/plain": [
       "   YearStart  YearEnd LocationAbbr LocationDesc DataSource   Topic  \\\n",
       "0       2012     2012           AL      Alabama       NVSS  Asthma   \n",
       "1       2014     2014           AL      Alabama       NVSS  Asthma   \n",
       "2       2011     2011           AZ      Arizona       NVSS  Asthma   \n",
       "3       2015     2015           CT  Connecticut       NVSS  Asthma   \n",
       "4       2011     2011           FL      Florida       NVSS  Asthma   \n",
       "\n",
       "                Question  Response DataValueUnit DataValueType  ...  \\\n",
       "0  Asthma mortality rate       NaN           NaN        Number  ...   \n",
       "1  Asthma mortality rate       NaN           NaN        Number  ...   \n",
       "2  Asthma mortality rate       NaN           NaN        Number  ...   \n",
       "3  Asthma mortality rate       NaN           NaN        Number  ...   \n",
       "4  Asthma mortality rate       NaN           NaN        Number  ...   \n",
       "\n",
       "   LocationID TopicID QuestionID DataValueTypeID  StratificationCategoryID1  \\\n",
       "0           1     AST     AST4_1            NMBR                     GENDER   \n",
       "1           1     AST     AST4_1            NMBR                     GENDER   \n",
       "2           4     AST     AST4_1            NMBR                     GENDER   \n",
       "3           9     AST     AST4_1            NMBR                     GENDER   \n",
       "4          12     AST     AST4_1            NMBR                     GENDER   \n",
       "\n",
       "   StratificationID1 StratificationCategoryID2 StratificationID2  \\\n",
       "0               GENF                       NaN               NaN   \n",
       "1               GENM                       NaN               NaN   \n",
       "2               GENM                       NaN               NaN   \n",
       "3               GENF                       NaN               NaN   \n",
       "4               GENM                       NaN               NaN   \n",
       "\n",
       "   StratificationCategoryID3  StratificationID3  \n",
       "0                        NaN                NaN  \n",
       "1                        NaN                NaN  \n",
       "2                        NaN                NaN  \n",
       "3                        NaN                NaN  \n",
       "4                        NaN                NaN  \n",
       "\n",
       "[5 rows x 33 columns]"
      ]
     },
     "execution_count": 2,
     "metadata": {},
     "output_type": "execute_result"
    }
   ],
   "source": [
    "asthma = pd.read_csv('Asthma.csv')\n",
    "asthma.head(5)"
   ]
  },
  {
   "cell_type": "code",
   "execution_count": 3,
   "metadata": {
    "scrolled": true
   },
   "outputs": [
    {
     "data": {
      "text/html": [
       "<div>\n",
       "<style scoped>\n",
       "    .dataframe tbody tr th:only-of-type {\n",
       "        vertical-align: middle;\n",
       "    }\n",
       "\n",
       "    .dataframe tbody tr th {\n",
       "        vertical-align: top;\n",
       "    }\n",
       "\n",
       "    .dataframe thead th {\n",
       "        text-align: right;\n",
       "    }\n",
       "</style>\n",
       "<table border=\"1\" class=\"dataframe\">\n",
       "  <thead>\n",
       "    <tr style=\"text-align: right;\">\n",
       "      <th></th>\n",
       "      <th>statefip</th>\n",
       "      <th>01JAN2011</th>\n",
       "      <th>02JAN2011</th>\n",
       "      <th>03JAN2011</th>\n",
       "      <th>04JAN2011</th>\n",
       "      <th>05JAN2011</th>\n",
       "      <th>06JAN2011</th>\n",
       "      <th>07JAN2011</th>\n",
       "      <th>08JAN2011</th>\n",
       "      <th>09JAN2011</th>\n",
       "      <th>...</th>\n",
       "      <th>22DEC2014</th>\n",
       "      <th>23DEC2014</th>\n",
       "      <th>24DEC2014</th>\n",
       "      <th>25DEC2014</th>\n",
       "      <th>26DEC2014</th>\n",
       "      <th>27DEC2014</th>\n",
       "      <th>28DEC2014</th>\n",
       "      <th>29DEC2014</th>\n",
       "      <th>30DEC2014</th>\n",
       "      <th>31DEC2014</th>\n",
       "    </tr>\n",
       "  </thead>\n",
       "  <tbody>\n",
       "    <tr>\n",
       "      <th>0</th>\n",
       "      <td>1</td>\n",
       "      <td>5.196290</td>\n",
       "      <td>4.984104</td>\n",
       "      <td>7.209600</td>\n",
       "      <td>14.935756</td>\n",
       "      <td>13.690596</td>\n",
       "      <td>8.585039</td>\n",
       "      <td>5.775294</td>\n",
       "      <td>5.281323</td>\n",
       "      <td>5.653868</td>\n",
       "      <td>...</td>\n",
       "      <td>6.277790</td>\n",
       "      <td>4.574800</td>\n",
       "      <td>4.386800</td>\n",
       "      <td>6.835787</td>\n",
       "      <td>10.125804</td>\n",
       "      <td>8.777215</td>\n",
       "      <td>5.365212</td>\n",
       "      <td>6.648250</td>\n",
       "      <td>8.164014</td>\n",
       "      <td>10.379025</td>\n",
       "    </tr>\n",
       "    <tr>\n",
       "      <th>1</th>\n",
       "      <td>4</td>\n",
       "      <td>8.827295</td>\n",
       "      <td>7.360635</td>\n",
       "      <td>12.533566</td>\n",
       "      <td>11.775343</td>\n",
       "      <td>10.416504</td>\n",
       "      <td>10.179782</td>\n",
       "      <td>13.626992</td>\n",
       "      <td>9.685872</td>\n",
       "      <td>11.871241</td>\n",
       "      <td>...</td>\n",
       "      <td>15.854941</td>\n",
       "      <td>9.668950</td>\n",
       "      <td>9.149272</td>\n",
       "      <td>8.300927</td>\n",
       "      <td>7.769705</td>\n",
       "      <td>12.176465</td>\n",
       "      <td>11.554488</td>\n",
       "      <td>14.450957</td>\n",
       "      <td>10.587868</td>\n",
       "      <td>9.241211</td>\n",
       "    </tr>\n",
       "    <tr>\n",
       "      <th>2</th>\n",
       "      <td>5</td>\n",
       "      <td>5.786716</td>\n",
       "      <td>7.738383</td>\n",
       "      <td>8.606869</td>\n",
       "      <td>11.491568</td>\n",
       "      <td>12.038085</td>\n",
       "      <td>8.903985</td>\n",
       "      <td>5.570338</td>\n",
       "      <td>4.409569</td>\n",
       "      <td>5.063505</td>\n",
       "      <td>...</td>\n",
       "      <td>9.685457</td>\n",
       "      <td>5.797382</td>\n",
       "      <td>5.141571</td>\n",
       "      <td>4.235675</td>\n",
       "      <td>7.013927</td>\n",
       "      <td>5.985645</td>\n",
       "      <td>6.463000</td>\n",
       "      <td>8.268514</td>\n",
       "      <td>10.546440</td>\n",
       "      <td>9.648933</td>\n",
       "    </tr>\n",
       "    <tr>\n",
       "      <th>3</th>\n",
       "      <td>6</td>\n",
       "      <td>13.559603</td>\n",
       "      <td>8.105638</td>\n",
       "      <td>7.545573</td>\n",
       "      <td>9.488456</td>\n",
       "      <td>10.519056</td>\n",
       "      <td>12.612504</td>\n",
       "      <td>19.867717</td>\n",
       "      <td>16.772288</td>\n",
       "      <td>14.125612</td>\n",
       "      <td>...</td>\n",
       "      <td>11.942154</td>\n",
       "      <td>7.795916</td>\n",
       "      <td>8.594198</td>\n",
       "      <td>5.446916</td>\n",
       "      <td>5.797357</td>\n",
       "      <td>11.192144</td>\n",
       "      <td>14.167456</td>\n",
       "      <td>14.964028</td>\n",
       "      <td>10.647488</td>\n",
       "      <td>11.708086</td>\n",
       "    </tr>\n",
       "    <tr>\n",
       "      <th>4</th>\n",
       "      <td>8</td>\n",
       "      <td>3.949587</td>\n",
       "      <td>5.036296</td>\n",
       "      <td>8.523260</td>\n",
       "      <td>14.477241</td>\n",
       "      <td>4.653650</td>\n",
       "      <td>7.191430</td>\n",
       "      <td>7.362693</td>\n",
       "      <td>14.661273</td>\n",
       "      <td>7.734357</td>\n",
       "      <td>...</td>\n",
       "      <td>3.371333</td>\n",
       "      <td>4.931956</td>\n",
       "      <td>6.957509</td>\n",
       "      <td>3.884519</td>\n",
       "      <td>5.561388</td>\n",
       "      <td>8.712206</td>\n",
       "      <td>13.681786</td>\n",
       "      <td>10.666739</td>\n",
       "      <td>7.372589</td>\n",
       "      <td>13.418500</td>\n",
       "    </tr>\n",
       "  </tbody>\n",
       "</table>\n",
       "<p>5 rows × 1462 columns</p>\n",
       "</div>"
      ],
      "text/plain": [
       "   statefip  01JAN2011  02JAN2011  03JAN2011  04JAN2011  05JAN2011  06JAN2011  \\\n",
       "0         1   5.196290   4.984104   7.209600  14.935756  13.690596   8.585039   \n",
       "1         4   8.827295   7.360635  12.533566  11.775343  10.416504  10.179782   \n",
       "2         5   5.786716   7.738383   8.606869  11.491568  12.038085   8.903985   \n",
       "3         6  13.559603   8.105638   7.545573   9.488456  10.519056  12.612504   \n",
       "4         8   3.949587   5.036296   8.523260  14.477241   4.653650   7.191430   \n",
       "\n",
       "   07JAN2011  08JAN2011  09JAN2011  ...  22DEC2014  23DEC2014  24DEC2014  \\\n",
       "0   5.775294   5.281323   5.653868  ...   6.277790   4.574800   4.386800   \n",
       "1  13.626992   9.685872  11.871241  ...  15.854941   9.668950   9.149272   \n",
       "2   5.570338   4.409569   5.063505  ...   9.685457   5.797382   5.141571   \n",
       "3  19.867717  16.772288  14.125612  ...  11.942154   7.795916   8.594198   \n",
       "4   7.362693  14.661273   7.734357  ...   3.371333   4.931956   6.957509   \n",
       "\n",
       "   25DEC2014  26DEC2014  27DEC2014  28DEC2014  29DEC2014  30DEC2014  31DEC2014  \n",
       "0   6.835787  10.125804   8.777215   5.365212   6.648250   8.164014  10.379025  \n",
       "1   8.300927   7.769705  12.176465  11.554488  14.450957  10.587868   9.241211  \n",
       "2   4.235675   7.013927   5.985645   6.463000   8.268514  10.546440   9.648933  \n",
       "3   5.446916   5.797357  11.192144  14.167456  14.964028  10.647488  11.708086  \n",
       "4   3.884519   5.561388   8.712206  13.681786  10.666739   7.372589  13.418500  \n",
       "\n",
       "[5 rows x 1462 columns]"
      ]
     },
     "execution_count": 3,
     "metadata": {},
     "output_type": "execute_result"
    }
   ],
   "source": [
    "pm25 = pd.read_csv('PM25.csv').drop('Unnamed: 0', axis = 1)\n",
    "pm25.head(5)"
   ]
  },
  {
   "cell_type": "code",
   "execution_count": 4,
   "metadata": {},
   "outputs": [
    {
     "data": {
      "text/html": [
       "<div>\n",
       "<style scoped>\n",
       "    .dataframe tbody tr th:only-of-type {\n",
       "        vertical-align: middle;\n",
       "    }\n",
       "\n",
       "    .dataframe tbody tr th {\n",
       "        vertical-align: top;\n",
       "    }\n",
       "\n",
       "    .dataframe thead th {\n",
       "        text-align: right;\n",
       "    }\n",
       "</style>\n",
       "<table border=\"1\" class=\"dataframe\">\n",
       "  <thead>\n",
       "    <tr style=\"text-align: right;\">\n",
       "      <th></th>\n",
       "      <th>statefip</th>\n",
       "      <th>01JAN2011</th>\n",
       "      <th>02JAN2011</th>\n",
       "      <th>03JAN2011</th>\n",
       "      <th>04JAN2011</th>\n",
       "      <th>05JAN2011</th>\n",
       "      <th>06JAN2011</th>\n",
       "      <th>07JAN2011</th>\n",
       "      <th>08JAN2011</th>\n",
       "      <th>09JAN2011</th>\n",
       "      <th>...</th>\n",
       "      <th>22DEC2014</th>\n",
       "      <th>23DEC2014</th>\n",
       "      <th>24DEC2014</th>\n",
       "      <th>25DEC2014</th>\n",
       "      <th>26DEC2014</th>\n",
       "      <th>27DEC2014</th>\n",
       "      <th>28DEC2014</th>\n",
       "      <th>29DEC2014</th>\n",
       "      <th>30DEC2014</th>\n",
       "      <th>31DEC2014</th>\n",
       "    </tr>\n",
       "  </thead>\n",
       "  <tbody>\n",
       "    <tr>\n",
       "      <th>0</th>\n",
       "      <td>1</td>\n",
       "      <td>32.721949</td>\n",
       "      <td>34.568758</td>\n",
       "      <td>30.375864</td>\n",
       "      <td>34.251780</td>\n",
       "      <td>25.669446</td>\n",
       "      <td>35.428277</td>\n",
       "      <td>42.567707</td>\n",
       "      <td>37.360915</td>\n",
       "      <td>29.332703</td>\n",
       "      <td>...</td>\n",
       "      <td>18.379176</td>\n",
       "      <td>26.374789</td>\n",
       "      <td>27.970030</td>\n",
       "      <td>24.502318</td>\n",
       "      <td>29.265682</td>\n",
       "      <td>26.539294</td>\n",
       "      <td>21.010491</td>\n",
       "      <td>13.935375</td>\n",
       "      <td>20.869850</td>\n",
       "      <td>20.861829</td>\n",
       "    </tr>\n",
       "    <tr>\n",
       "      <th>1</th>\n",
       "      <td>4</td>\n",
       "      <td>37.600710</td>\n",
       "      <td>36.208419</td>\n",
       "      <td>28.965546</td>\n",
       "      <td>22.845798</td>\n",
       "      <td>24.252316</td>\n",
       "      <td>21.691751</td>\n",
       "      <td>27.932608</td>\n",
       "      <td>32.126367</td>\n",
       "      <td>38.859366</td>\n",
       "      <td>...</td>\n",
       "      <td>30.941900</td>\n",
       "      <td>41.052629</td>\n",
       "      <td>35.428706</td>\n",
       "      <td>35.638700</td>\n",
       "      <td>33.114273</td>\n",
       "      <td>29.577865</td>\n",
       "      <td>30.148626</td>\n",
       "      <td>30.046606</td>\n",
       "      <td>31.062371</td>\n",
       "      <td>30.077946</td>\n",
       "    </tr>\n",
       "    <tr>\n",
       "      <th>2</th>\n",
       "      <td>5</td>\n",
       "      <td>30.239673</td>\n",
       "      <td>34.037387</td>\n",
       "      <td>34.557988</td>\n",
       "      <td>31.986139</td>\n",
       "      <td>33.764155</td>\n",
       "      <td>39.655212</td>\n",
       "      <td>35.805370</td>\n",
       "      <td>34.693654</td>\n",
       "      <td>27.113124</td>\n",
       "      <td>...</td>\n",
       "      <td>18.632721</td>\n",
       "      <td>26.653000</td>\n",
       "      <td>16.930287</td>\n",
       "      <td>33.680957</td>\n",
       "      <td>24.719975</td>\n",
       "      <td>19.922840</td>\n",
       "      <td>15.101408</td>\n",
       "      <td>20.903627</td>\n",
       "      <td>25.459039</td>\n",
       "      <td>23.421275</td>\n",
       "    </tr>\n",
       "    <tr>\n",
       "      <th>3</th>\n",
       "      <td>6</td>\n",
       "      <td>32.563569</td>\n",
       "      <td>28.175180</td>\n",
       "      <td>23.692732</td>\n",
       "      <td>24.940009</td>\n",
       "      <td>20.267972</td>\n",
       "      <td>19.010336</td>\n",
       "      <td>16.436324</td>\n",
       "      <td>22.489915</td>\n",
       "      <td>28.328533</td>\n",
       "      <td>...</td>\n",
       "      <td>19.186271</td>\n",
       "      <td>19.241213</td>\n",
       "      <td>30.206364</td>\n",
       "      <td>36.871303</td>\n",
       "      <td>32.910782</td>\n",
       "      <td>30.952254</td>\n",
       "      <td>29.631145</td>\n",
       "      <td>29.022493</td>\n",
       "      <td>33.305325</td>\n",
       "      <td>32.842572</td>\n",
       "    </tr>\n",
       "    <tr>\n",
       "      <th>4</th>\n",
       "      <td>8</td>\n",
       "      <td>37.797404</td>\n",
       "      <td>36.801446</td>\n",
       "      <td>36.713041</td>\n",
       "      <td>41.866961</td>\n",
       "      <td>42.656211</td>\n",
       "      <td>38.958352</td>\n",
       "      <td>33.559118</td>\n",
       "      <td>23.684557</td>\n",
       "      <td>37.000746</td>\n",
       "      <td>...</td>\n",
       "      <td>35.381818</td>\n",
       "      <td>39.690000</td>\n",
       "      <td>28.191967</td>\n",
       "      <td>33.211362</td>\n",
       "      <td>29.620425</td>\n",
       "      <td>31.601164</td>\n",
       "      <td>28.668236</td>\n",
       "      <td>28.348465</td>\n",
       "      <td>26.475895</td>\n",
       "      <td>29.747821</td>\n",
       "    </tr>\n",
       "  </tbody>\n",
       "</table>\n",
       "<p>5 rows × 1462 columns</p>\n",
       "</div>"
      ],
      "text/plain": [
       "   statefip  01JAN2011  02JAN2011  03JAN2011  04JAN2011  05JAN2011  06JAN2011  \\\n",
       "0         1  32.721949  34.568758  30.375864  34.251780  25.669446  35.428277   \n",
       "1         4  37.600710  36.208419  28.965546  22.845798  24.252316  21.691751   \n",
       "2         5  30.239673  34.037387  34.557988  31.986139  33.764155  39.655212   \n",
       "3         6  32.563569  28.175180  23.692732  24.940009  20.267972  19.010336   \n",
       "4         8  37.797404  36.801446  36.713041  41.866961  42.656211  38.958352   \n",
       "\n",
       "   07JAN2011  08JAN2011  09JAN2011  ...  22DEC2014  23DEC2014  24DEC2014  \\\n",
       "0  42.567707  37.360915  29.332703  ...  18.379176  26.374789  27.970030   \n",
       "1  27.932608  32.126367  38.859366  ...  30.941900  41.052629  35.428706   \n",
       "2  35.805370  34.693654  27.113124  ...  18.632721  26.653000  16.930287   \n",
       "3  16.436324  22.489915  28.328533  ...  19.186271  19.241213  30.206364   \n",
       "4  33.559118  23.684557  37.000746  ...  35.381818  39.690000  28.191967   \n",
       "\n",
       "   25DEC2014  26DEC2014  27DEC2014  28DEC2014  29DEC2014  30DEC2014  31DEC2014  \n",
       "0  24.502318  29.265682  26.539294  21.010491  13.935375  20.869850  20.861829  \n",
       "1  35.638700  33.114273  29.577865  30.148626  30.046606  31.062371  30.077946  \n",
       "2  33.680957  24.719975  19.922840  15.101408  20.903627  25.459039  23.421275  \n",
       "3  36.871303  32.910782  30.952254  29.631145  29.022493  33.305325  32.842572  \n",
       "4  33.211362  29.620425  31.601164  28.668236  28.348465  26.475895  29.747821  \n",
       "\n",
       "[5 rows x 1462 columns]"
      ]
     },
     "execution_count": 4,
     "metadata": {},
     "output_type": "execute_result"
    }
   ],
   "source": [
    "ozone = pd.read_csv('ozone.csv').drop('Unnamed: 0', axis = 1)\n",
    "ozone.head(5)"
   ]
  },
  {
   "cell_type": "markdown",
   "metadata": {},
   "source": [
    "## Data Cleaning"
   ]
  },
  {
   "cell_type": "markdown",
   "metadata": {},
   "source": [
    "For data cleaning, we first loaded individual datasets and dropped those containing N/A values. We selected columns relevant to our reasearch question, and merged all 3 datasets into one on Year and StateID.\\\n",
    "Since we dropped various rows containing N/A values, the data used to generate models as well as make predictions may not be as accurate. "
   ]
  },
  {
   "cell_type": "markdown",
   "metadata": {},
   "source": [
    "### 1) Asthma Dataset"
   ]
  },
  {
   "cell_type": "code",
   "execution_count": 5,
   "metadata": {
    "scrolled": false
   },
   "outputs": [
    {
     "data": {
      "text/plain": [
       "Asthma mortality rate                                                                      9816\n",
       "Current asthma prevalence among adults aged >= 18 years                                    7830\n",
       "Influenza vaccination among noninstitutionalized adults aged 18-64 years with asthma       7830\n",
       "Influenza vaccination among noninstitutionalized adults aged >= 65 years with asthma       7830\n",
       "Pneumococcal vaccination among noninstitutionalized adults aged 18-64 years with asthma    7830\n",
       "Pneumococcal vaccination among noninstitutionalized adults aged >= 65 years with asthma    7830\n",
       "Hospitalizations for asthma                                                                6516\n",
       "Emergency department visit rate for asthma                                                 6312\n",
       "Asthma prevalence among women aged 18-44 years                                             2925\n",
       "Name: Question, dtype: int64"
      ]
     },
     "execution_count": 5,
     "metadata": {},
     "output_type": "execute_result"
    }
   ],
   "source": [
    "asthma['Question'].value_counts()"
   ]
  },
  {
   "cell_type": "markdown",
   "metadata": {},
   "source": [
    "Among the 9 questions addressed in the asthma dataset, we will only explore 'asthma mortality rate' and 'current asthma prevalence among adults aged >= 18 years' for our project. And we will only use data that are between 2011-2014 to match the time frame in PM2.5 and ozone datasets."
   ]
  },
  {
   "cell_type": "markdown",
   "metadata": {},
   "source": [
    "#### Asthma mortality rate"
   ]
  },
  {
   "cell_type": "code",
   "execution_count": 6,
   "metadata": {},
   "outputs": [
    {
     "data": {
      "text/html": [
       "<div>\n",
       "<style scoped>\n",
       "    .dataframe tbody tr th:only-of-type {\n",
       "        vertical-align: middle;\n",
       "    }\n",
       "\n",
       "    .dataframe tbody tr th {\n",
       "        vertical-align: top;\n",
       "    }\n",
       "\n",
       "    .dataframe thead th {\n",
       "        text-align: right;\n",
       "    }\n",
       "</style>\n",
       "<table border=\"1\" class=\"dataframe\">\n",
       "  <thead>\n",
       "    <tr style=\"text-align: right;\">\n",
       "      <th></th>\n",
       "      <th>Year</th>\n",
       "      <th>State</th>\n",
       "      <th>StateID</th>\n",
       "      <th>Cases_per_million</th>\n",
       "      <th>StratificationCategory</th>\n",
       "      <th>Stratification</th>\n",
       "    </tr>\n",
       "  </thead>\n",
       "  <tbody>\n",
       "    <tr>\n",
       "      <th>0</th>\n",
       "      <td>2012</td>\n",
       "      <td>Alabama</td>\n",
       "      <td>1</td>\n",
       "      <td>37.0</td>\n",
       "      <td>GENDER</td>\n",
       "      <td>GENF</td>\n",
       "    </tr>\n",
       "    <tr>\n",
       "      <th>1</th>\n",
       "      <td>2014</td>\n",
       "      <td>Alabama</td>\n",
       "      <td>1</td>\n",
       "      <td>22.0</td>\n",
       "      <td>GENDER</td>\n",
       "      <td>GENM</td>\n",
       "    </tr>\n",
       "    <tr>\n",
       "      <th>2</th>\n",
       "      <td>2011</td>\n",
       "      <td>Arizona</td>\n",
       "      <td>4</td>\n",
       "      <td>29.0</td>\n",
       "      <td>GENDER</td>\n",
       "      <td>GENM</td>\n",
       "    </tr>\n",
       "    <tr>\n",
       "      <th>4</th>\n",
       "      <td>2011</td>\n",
       "      <td>Florida</td>\n",
       "      <td>12</td>\n",
       "      <td>54.0</td>\n",
       "      <td>GENDER</td>\n",
       "      <td>GENM</td>\n",
       "    </tr>\n",
       "    <tr>\n",
       "      <th>6</th>\n",
       "      <td>2011</td>\n",
       "      <td>Hawaii</td>\n",
       "      <td>15</td>\n",
       "      <td>26.0</td>\n",
       "      <td>OVERALL</td>\n",
       "      <td>OVR</td>\n",
       "    </tr>\n",
       "  </tbody>\n",
       "</table>\n",
       "</div>"
      ],
      "text/plain": [
       "   Year    State  StateID  Cases_per_million StratificationCategory  \\\n",
       "0  2012  Alabama        1               37.0                 GENDER   \n",
       "1  2014  Alabama        1               22.0                 GENDER   \n",
       "2  2011  Arizona        4               29.0                 GENDER   \n",
       "4  2011  Florida       12               54.0                 GENDER   \n",
       "6  2011   Hawaii       15               26.0                OVERALL   \n",
       "\n",
       "  Stratification  \n",
       "0           GENF  \n",
       "1           GENM  \n",
       "2           GENM  \n",
       "4           GENM  \n",
       "6            OVR  "
      ]
     },
     "execution_count": 6,
     "metadata": {},
     "output_type": "execute_result"
    }
   ],
   "source": [
    "mortality = asthma[asthma['Question'] == 'Asthma mortality rate']\n",
    "# Select data from 2011-2014\n",
    "mortality = mortality[(mortality['YearStart'] >= 2011) & (mortality['YearEnd'] <= 2014)]\n",
    "selected_columns = ['YearStart', 'LocationDesc', 'LocationID', 'DataValue', 'StratificationCategoryID1', 'StratificationID1']\n",
    "mortality_selected = mortality[selected_columns]\n",
    "mortality_selected = mortality_selected.rename(columns={'YearStart':'Year','LocationDesc':'State', 'LocationID': 'StateID',\n",
    "                                                'DataValue':'Cases_per_million', 'StratificationCategoryID1':'StratificationCategory',\n",
    "                                                'StratificationID1':'Stratification'})\n",
    "# Drop NA rows\n",
    "mortality_cleaned = mortality_selected.dropna()\n",
    "mortality_cleaned.head(5)\n"
   ]
  },
  {
   "cell_type": "markdown",
   "metadata": {},
   "source": [
    "#### Current asthma prevalence among adults aged >= 18 years"
   ]
  },
  {
   "cell_type": "code",
   "execution_count": 7,
   "metadata": {
    "scrolled": true
   },
   "outputs": [
    {
     "data": {
      "text/html": [
       "<div>\n",
       "<style scoped>\n",
       "    .dataframe tbody tr th:only-of-type {\n",
       "        vertical-align: middle;\n",
       "    }\n",
       "\n",
       "    .dataframe tbody tr th {\n",
       "        vertical-align: top;\n",
       "    }\n",
       "\n",
       "    .dataframe thead th {\n",
       "        text-align: right;\n",
       "    }\n",
       "</style>\n",
       "<table border=\"1\" class=\"dataframe\">\n",
       "  <thead>\n",
       "    <tr style=\"text-align: right;\">\n",
       "      <th></th>\n",
       "      <th>Year</th>\n",
       "      <th>State</th>\n",
       "      <th>StateID</th>\n",
       "      <th>Prevalence</th>\n",
       "      <th>StratificationCategory</th>\n",
       "      <th>Stratification</th>\n",
       "    </tr>\n",
       "  </thead>\n",
       "  <tbody>\n",
       "    <tr>\n",
       "      <th>22650</th>\n",
       "      <td>2012</td>\n",
       "      <td>Colorado</td>\n",
       "      <td>8</td>\n",
       "      <td>7.1</td>\n",
       "      <td>GENDER</td>\n",
       "      <td>GENM</td>\n",
       "    </tr>\n",
       "    <tr>\n",
       "      <th>22658</th>\n",
       "      <td>2011</td>\n",
       "      <td>Puerto Rico</td>\n",
       "      <td>72</td>\n",
       "      <td>13.2</td>\n",
       "      <td>GENDER</td>\n",
       "      <td>GENF</td>\n",
       "    </tr>\n",
       "    <tr>\n",
       "      <th>22659</th>\n",
       "      <td>2014</td>\n",
       "      <td>New Mexico</td>\n",
       "      <td>35</td>\n",
       "      <td>7.4</td>\n",
       "      <td>GENDER</td>\n",
       "      <td>GENM</td>\n",
       "    </tr>\n",
       "    <tr>\n",
       "      <th>22662</th>\n",
       "      <td>2011</td>\n",
       "      <td>Missouri</td>\n",
       "      <td>29</td>\n",
       "      <td>11.5</td>\n",
       "      <td>GENDER</td>\n",
       "      <td>GENF</td>\n",
       "    </tr>\n",
       "    <tr>\n",
       "      <th>22663</th>\n",
       "      <td>2011</td>\n",
       "      <td>Montana</td>\n",
       "      <td>30</td>\n",
       "      <td>11.6</td>\n",
       "      <td>GENDER</td>\n",
       "      <td>GENF</td>\n",
       "    </tr>\n",
       "  </tbody>\n",
       "</table>\n",
       "</div>"
      ],
      "text/plain": [
       "       Year        State  StateID  Prevalence StratificationCategory  \\\n",
       "22650  2012     Colorado        8         7.1                 GENDER   \n",
       "22658  2011  Puerto Rico       72        13.2                 GENDER   \n",
       "22659  2014   New Mexico       35         7.4                 GENDER   \n",
       "22662  2011     Missouri       29        11.5                 GENDER   \n",
       "22663  2011      Montana       30        11.6                 GENDER   \n",
       "\n",
       "      Stratification  \n",
       "22650           GENM  \n",
       "22658           GENF  \n",
       "22659           GENM  \n",
       "22662           GENF  \n",
       "22663           GENF  "
      ]
     },
     "execution_count": 7,
     "metadata": {},
     "output_type": "execute_result"
    }
   ],
   "source": [
    "prevalence = asthma[asthma['Question'] == 'Current asthma prevalence among adults aged >= 18 years']\n",
    "# Select data from 2011-2014\n",
    "prevalence = prevalence[(prevalence['YearStart'] >= 2011) & (prevalence['YearEnd'] <= 2014)]\n",
    "prevalence_selected = prevalence[selected_columns]\n",
    "prevalence_selected = prevalence_selected.rename(columns={'YearStart':'Year','LocationDesc':'State', 'LocationID': 'StateID',\n",
    "                                                'DataValue':'Prevalence', 'StratificationCategoryID1':'StratificationCategory',\n",
    "                                                'StratificationID1':'Stratification'})\n",
    "# Drop NA rows\n",
    "prevalence_cleaned = prevalence_selected.dropna()\n",
    "prevalence_cleaned.head(5)"
   ]
  },
  {
   "cell_type": "markdown",
   "metadata": {},
   "source": [
    "### 2) PM2.5 & Ozone"
   ]
  },
  {
   "cell_type": "code",
   "execution_count": 8,
   "metadata": {},
   "outputs": [
    {
     "data": {
      "text/html": [
       "<div>\n",
       "<style scoped>\n",
       "    .dataframe tbody tr th:only-of-type {\n",
       "        vertical-align: middle;\n",
       "    }\n",
       "\n",
       "    .dataframe tbody tr th {\n",
       "        vertical-align: top;\n",
       "    }\n",
       "\n",
       "    .dataframe thead th {\n",
       "        text-align: right;\n",
       "    }\n",
       "</style>\n",
       "<table border=\"1\" class=\"dataframe\">\n",
       "  <thead>\n",
       "    <tr style=\"text-align: right;\">\n",
       "      <th></th>\n",
       "      <th>Year</th>\n",
       "      <th>StateID</th>\n",
       "      <th>PM2.5</th>\n",
       "    </tr>\n",
       "  </thead>\n",
       "  <tbody>\n",
       "    <tr>\n",
       "      <th>0</th>\n",
       "      <td>2011</td>\n",
       "      <td>1</td>\n",
       "      <td>10.722394</td>\n",
       "    </tr>\n",
       "    <tr>\n",
       "      <th>1</th>\n",
       "      <td>2011</td>\n",
       "      <td>4</td>\n",
       "      <td>7.957158</td>\n",
       "    </tr>\n",
       "    <tr>\n",
       "      <th>2</th>\n",
       "      <td>2011</td>\n",
       "      <td>5</td>\n",
       "      <td>10.607418</td>\n",
       "    </tr>\n",
       "    <tr>\n",
       "      <th>3</th>\n",
       "      <td>2011</td>\n",
       "      <td>6</td>\n",
       "      <td>10.424960</td>\n",
       "    </tr>\n",
       "    <tr>\n",
       "      <th>4</th>\n",
       "      <td>2011</td>\n",
       "      <td>8</td>\n",
       "      <td>6.438329</td>\n",
       "    </tr>\n",
       "  </tbody>\n",
       "</table>\n",
       "</div>"
      ],
      "text/plain": [
       "   Year  StateID      PM2.5\n",
       "0  2011        1  10.722394\n",
       "1  2011        4   7.957158\n",
       "2  2011        5  10.607418\n",
       "3  2011        6  10.424960\n",
       "4  2011        8   6.438329"
      ]
     },
     "execution_count": 8,
     "metadata": {},
     "output_type": "execute_result"
    }
   ],
   "source": [
    "pm25_cleaned = pm25.melt(id_vars='statefip')\n",
    "pm25_cleaned = pm25_cleaned.rename(columns={'statefip':'StateID','variable':'Date', 'value': 'PM2.5'})\n",
    "# Add a year column\n",
    "pm25_cleaned['Year'] = pm25_cleaned['Date'].str[-4:]\n",
    "# Group PM2.5 by year and take the mean\n",
    "pm25_grouped = pm25_cleaned.groupby([\"Year\", \"StateID\"]).mean().reset_index()\n",
    "pm25_grouped.head(5)"
   ]
  },
  {
   "cell_type": "code",
   "execution_count": 9,
   "metadata": {
    "scrolled": true
   },
   "outputs": [
    {
     "data": {
      "text/html": [
       "<div>\n",
       "<style scoped>\n",
       "    .dataframe tbody tr th:only-of-type {\n",
       "        vertical-align: middle;\n",
       "    }\n",
       "\n",
       "    .dataframe tbody tr th {\n",
       "        vertical-align: top;\n",
       "    }\n",
       "\n",
       "    .dataframe thead th {\n",
       "        text-align: right;\n",
       "    }\n",
       "</style>\n",
       "<table border=\"1\" class=\"dataframe\">\n",
       "  <thead>\n",
       "    <tr style=\"text-align: right;\">\n",
       "      <th></th>\n",
       "      <th>Year</th>\n",
       "      <th>StateID</th>\n",
       "      <th>Ozone</th>\n",
       "    </tr>\n",
       "  </thead>\n",
       "  <tbody>\n",
       "    <tr>\n",
       "      <th>0</th>\n",
       "      <td>2011</td>\n",
       "      <td>1</td>\n",
       "      <td>41.170865</td>\n",
       "    </tr>\n",
       "    <tr>\n",
       "      <th>1</th>\n",
       "      <td>2011</td>\n",
       "      <td>4</td>\n",
       "      <td>46.998399</td>\n",
       "    </tr>\n",
       "    <tr>\n",
       "      <th>2</th>\n",
       "      <td>2011</td>\n",
       "      <td>5</td>\n",
       "      <td>41.012629</td>\n",
       "    </tr>\n",
       "    <tr>\n",
       "      <th>3</th>\n",
       "      <td>2011</td>\n",
       "      <td>6</td>\n",
       "      <td>39.981360</td>\n",
       "    </tr>\n",
       "    <tr>\n",
       "      <th>4</th>\n",
       "      <td>2011</td>\n",
       "      <td>8</td>\n",
       "      <td>47.043940</td>\n",
       "    </tr>\n",
       "  </tbody>\n",
       "</table>\n",
       "</div>"
      ],
      "text/plain": [
       "   Year  StateID      Ozone\n",
       "0  2011        1  41.170865\n",
       "1  2011        4  46.998399\n",
       "2  2011        5  41.012629\n",
       "3  2011        6  39.981360\n",
       "4  2011        8  47.043940"
      ]
     },
     "execution_count": 9,
     "metadata": {},
     "output_type": "execute_result"
    }
   ],
   "source": [
    "ozone_cleaned = ozone.melt(id_vars='statefip')\n",
    "ozone_cleaned = ozone_cleaned.rename(columns={'statefip':'StateID','variable':'Date', 'value': 'Ozone'})\n",
    "# Add a year column\n",
    "ozone_cleaned['Year'] = ozone_cleaned['Date'].str[-4:]\n",
    "# Group ozone level by year and take the mean\n",
    "ozone_grouped = ozone_cleaned.groupby([\"Year\", \"StateID\"]).mean().reset_index()\n",
    "ozone_grouped.head(5)"
   ]
  },
  {
   "cell_type": "code",
   "execution_count": 10,
   "metadata": {
    "scrolled": true
   },
   "outputs": [
    {
     "data": {
      "text/html": [
       "<div>\n",
       "<style scoped>\n",
       "    .dataframe tbody tr th:only-of-type {\n",
       "        vertical-align: middle;\n",
       "    }\n",
       "\n",
       "    .dataframe tbody tr th {\n",
       "        vertical-align: top;\n",
       "    }\n",
       "\n",
       "    .dataframe thead th {\n",
       "        text-align: right;\n",
       "    }\n",
       "</style>\n",
       "<table border=\"1\" class=\"dataframe\">\n",
       "  <thead>\n",
       "    <tr style=\"text-align: right;\">\n",
       "      <th></th>\n",
       "      <th>Year</th>\n",
       "      <th>StateID</th>\n",
       "      <th>PM2.5</th>\n",
       "      <th>Ozone</th>\n",
       "    </tr>\n",
       "  </thead>\n",
       "  <tbody>\n",
       "    <tr>\n",
       "      <th>0</th>\n",
       "      <td>2011</td>\n",
       "      <td>1</td>\n",
       "      <td>10.722394</td>\n",
       "      <td>41.170865</td>\n",
       "    </tr>\n",
       "    <tr>\n",
       "      <th>1</th>\n",
       "      <td>2011</td>\n",
       "      <td>4</td>\n",
       "      <td>7.957158</td>\n",
       "      <td>46.998399</td>\n",
       "    </tr>\n",
       "    <tr>\n",
       "      <th>2</th>\n",
       "      <td>2011</td>\n",
       "      <td>5</td>\n",
       "      <td>10.607418</td>\n",
       "      <td>41.012629</td>\n",
       "    </tr>\n",
       "    <tr>\n",
       "      <th>3</th>\n",
       "      <td>2011</td>\n",
       "      <td>6</td>\n",
       "      <td>10.424960</td>\n",
       "      <td>39.981360</td>\n",
       "    </tr>\n",
       "    <tr>\n",
       "      <th>4</th>\n",
       "      <td>2011</td>\n",
       "      <td>8</td>\n",
       "      <td>6.438329</td>\n",
       "      <td>47.043940</td>\n",
       "    </tr>\n",
       "  </tbody>\n",
       "</table>\n",
       "</div>"
      ],
      "text/plain": [
       "   Year  StateID      PM2.5      Ozone\n",
       "0  2011        1  10.722394  41.170865\n",
       "1  2011        4   7.957158  46.998399\n",
       "2  2011        5  10.607418  41.012629\n",
       "3  2011        6  10.424960  39.981360\n",
       "4  2011        8   6.438329  47.043940"
      ]
     },
     "execution_count": 10,
     "metadata": {},
     "output_type": "execute_result"
    }
   ],
   "source": [
    "# Merge pm25_grouped with ozone_grouped\n",
    "pm25_ozone = pd.merge(pm25_grouped, ozone_grouped, how='left', on=['Year','StateID'])\n",
    "pm25_ozone.head(5)"
   ]
  },
  {
   "cell_type": "markdown",
   "metadata": {},
   "source": [
    "### 3) Merge asthma, PM2.5 and ozone datasets together"
   ]
  },
  {
   "cell_type": "code",
   "execution_count": 11,
   "metadata": {
    "scrolled": true
   },
   "outputs": [
    {
     "data": {
      "text/html": [
       "<div>\n",
       "<style scoped>\n",
       "    .dataframe tbody tr th:only-of-type {\n",
       "        vertical-align: middle;\n",
       "    }\n",
       "\n",
       "    .dataframe tbody tr th {\n",
       "        vertical-align: top;\n",
       "    }\n",
       "\n",
       "    .dataframe thead th {\n",
       "        text-align: right;\n",
       "    }\n",
       "</style>\n",
       "<table border=\"1\" class=\"dataframe\">\n",
       "  <thead>\n",
       "    <tr style=\"text-align: right;\">\n",
       "      <th></th>\n",
       "      <th>Year</th>\n",
       "      <th>State</th>\n",
       "      <th>StateID</th>\n",
       "      <th>Cases_per_million</th>\n",
       "      <th>StratificationCategory</th>\n",
       "      <th>Stratification</th>\n",
       "      <th>PM2.5</th>\n",
       "      <th>Ozone</th>\n",
       "    </tr>\n",
       "  </thead>\n",
       "  <tbody>\n",
       "    <tr>\n",
       "      <th>0</th>\n",
       "      <td>2012</td>\n",
       "      <td>Alabama</td>\n",
       "      <td>1</td>\n",
       "      <td>37.0</td>\n",
       "      <td>GENDER</td>\n",
       "      <td>GENF</td>\n",
       "      <td>10.377063</td>\n",
       "      <td>40.221021</td>\n",
       "    </tr>\n",
       "    <tr>\n",
       "      <th>1</th>\n",
       "      <td>2014</td>\n",
       "      <td>Alabama</td>\n",
       "      <td>1</td>\n",
       "      <td>22.0</td>\n",
       "      <td>GENDER</td>\n",
       "      <td>GENM</td>\n",
       "      <td>11.025839</td>\n",
       "      <td>37.455517</td>\n",
       "    </tr>\n",
       "    <tr>\n",
       "      <th>2</th>\n",
       "      <td>2011</td>\n",
       "      <td>Arizona</td>\n",
       "      <td>4</td>\n",
       "      <td>29.0</td>\n",
       "      <td>GENDER</td>\n",
       "      <td>GENM</td>\n",
       "      <td>7.957158</td>\n",
       "      <td>46.998399</td>\n",
       "    </tr>\n",
       "    <tr>\n",
       "      <th>3</th>\n",
       "      <td>2011</td>\n",
       "      <td>Florida</td>\n",
       "      <td>12</td>\n",
       "      <td>54.0</td>\n",
       "      <td>GENDER</td>\n",
       "      <td>GENM</td>\n",
       "      <td>7.952353</td>\n",
       "      <td>39.268946</td>\n",
       "    </tr>\n",
       "    <tr>\n",
       "      <th>6</th>\n",
       "      <td>2012</td>\n",
       "      <td>Iowa</td>\n",
       "      <td>19</td>\n",
       "      <td>22.0</td>\n",
       "      <td>GENDER</td>\n",
       "      <td>GENF</td>\n",
       "      <td>9.605033</td>\n",
       "      <td>40.029690</td>\n",
       "    </tr>\n",
       "  </tbody>\n",
       "</table>\n",
       "</div>"
      ],
      "text/plain": [
       "   Year    State  StateID  Cases_per_million StratificationCategory  \\\n",
       "0  2012  Alabama        1               37.0                 GENDER   \n",
       "1  2014  Alabama        1               22.0                 GENDER   \n",
       "2  2011  Arizona        4               29.0                 GENDER   \n",
       "3  2011  Florida       12               54.0                 GENDER   \n",
       "6  2012     Iowa       19               22.0                 GENDER   \n",
       "\n",
       "  Stratification      PM2.5      Ozone  \n",
       "0           GENF  10.377063  40.221021  \n",
       "1           GENM  11.025839  37.455517  \n",
       "2           GENM   7.957158  46.998399  \n",
       "3           GENM   7.952353  39.268946  \n",
       "6           GENF   9.605033  40.029690  "
      ]
     },
     "execution_count": 11,
     "metadata": {},
     "output_type": "execute_result"
    }
   ],
   "source": [
    "# Convert 'Year' column in pm25_ozone to float\n",
    "pm25_ozone['Year'] = pm25_ozone['Year'].apply(lambda x: float(x))\n",
    "mortality_airquality = pd.merge(mortality_cleaned, pm25_ozone, how='left', on=['Year','StateID'], )\n",
    "# Drop NA rows\n",
    "mortality_final = mortality_airquality.dropna()\n",
    "mortality_final.head(5)"
   ]
  },
  {
   "cell_type": "code",
   "execution_count": 12,
   "metadata": {},
   "outputs": [
    {
     "data": {
      "text/html": [
       "<div>\n",
       "<style scoped>\n",
       "    .dataframe tbody tr th:only-of-type {\n",
       "        vertical-align: middle;\n",
       "    }\n",
       "\n",
       "    .dataframe tbody tr th {\n",
       "        vertical-align: top;\n",
       "    }\n",
       "\n",
       "    .dataframe thead th {\n",
       "        text-align: right;\n",
       "    }\n",
       "</style>\n",
       "<table border=\"1\" class=\"dataframe\">\n",
       "  <thead>\n",
       "    <tr style=\"text-align: right;\">\n",
       "      <th></th>\n",
       "      <th>Year</th>\n",
       "      <th>State</th>\n",
       "      <th>StateID</th>\n",
       "      <th>Prevalence</th>\n",
       "      <th>StratificationCategory</th>\n",
       "      <th>Stratification</th>\n",
       "      <th>PM2.5</th>\n",
       "      <th>Ozone</th>\n",
       "    </tr>\n",
       "  </thead>\n",
       "  <tbody>\n",
       "    <tr>\n",
       "      <th>0</th>\n",
       "      <td>2012</td>\n",
       "      <td>Colorado</td>\n",
       "      <td>8</td>\n",
       "      <td>7.1</td>\n",
       "      <td>GENDER</td>\n",
       "      <td>GENM</td>\n",
       "      <td>6.906790</td>\n",
       "      <td>47.597103</td>\n",
       "    </tr>\n",
       "    <tr>\n",
       "      <th>2</th>\n",
       "      <td>2014</td>\n",
       "      <td>New Mexico</td>\n",
       "      <td>35</td>\n",
       "      <td>7.4</td>\n",
       "      <td>GENDER</td>\n",
       "      <td>GENM</td>\n",
       "      <td>6.728881</td>\n",
       "      <td>43.070311</td>\n",
       "    </tr>\n",
       "    <tr>\n",
       "      <th>3</th>\n",
       "      <td>2011</td>\n",
       "      <td>Missouri</td>\n",
       "      <td>29</td>\n",
       "      <td>11.5</td>\n",
       "      <td>GENDER</td>\n",
       "      <td>GENF</td>\n",
       "      <td>10.122351</td>\n",
       "      <td>40.398751</td>\n",
       "    </tr>\n",
       "    <tr>\n",
       "      <th>4</th>\n",
       "      <td>2011</td>\n",
       "      <td>Montana</td>\n",
       "      <td>30</td>\n",
       "      <td>11.6</td>\n",
       "      <td>GENDER</td>\n",
       "      <td>GENF</td>\n",
       "      <td>6.424145</td>\n",
       "      <td>39.542425</td>\n",
       "    </tr>\n",
       "    <tr>\n",
       "      <th>5</th>\n",
       "      <td>2012</td>\n",
       "      <td>Kentucky</td>\n",
       "      <td>21</td>\n",
       "      <td>8.4</td>\n",
       "      <td>GENDER</td>\n",
       "      <td>GENM</td>\n",
       "      <td>9.935710</td>\n",
       "      <td>42.056297</td>\n",
       "    </tr>\n",
       "  </tbody>\n",
       "</table>\n",
       "</div>"
      ],
      "text/plain": [
       "   Year       State  StateID  Prevalence StratificationCategory  \\\n",
       "0  2012    Colorado        8         7.1                 GENDER   \n",
       "2  2014  New Mexico       35         7.4                 GENDER   \n",
       "3  2011    Missouri       29        11.5                 GENDER   \n",
       "4  2011     Montana       30        11.6                 GENDER   \n",
       "5  2012    Kentucky       21         8.4                 GENDER   \n",
       "\n",
       "  Stratification      PM2.5      Ozone  \n",
       "0           GENM   6.906790  47.597103  \n",
       "2           GENM   6.728881  43.070311  \n",
       "3           GENF  10.122351  40.398751  \n",
       "4           GENF   6.424145  39.542425  \n",
       "5           GENM   9.935710  42.056297  "
      ]
     },
     "execution_count": 12,
     "metadata": {},
     "output_type": "execute_result"
    }
   ],
   "source": [
    "prevalence_airquality = pd.merge(prevalence_cleaned, pm25_ozone, how='left', on=['Year','StateID'])\n",
    "# Drop NA rows\n",
    "prevalence_final = prevalence_airquality.dropna()\n",
    "prevalence_final.head(5)"
   ]
  },
  {
   "cell_type": "markdown",
   "metadata": {},
   "source": [
    "## EDA"
   ]
  },
  {
   "cell_type": "markdown",
   "metadata": {},
   "source": [
    "1) Asthma: Gender"
   ]
  },
  {
   "cell_type": "code",
   "execution_count": 13,
   "metadata": {},
   "outputs": [
    {
     "data": {
      "text/html": [
       "<div>\n",
       "<style scoped>\n",
       "    .dataframe tbody tr th:only-of-type {\n",
       "        vertical-align: middle;\n",
       "    }\n",
       "\n",
       "    .dataframe tbody tr th {\n",
       "        vertical-align: top;\n",
       "    }\n",
       "\n",
       "    .dataframe thead th {\n",
       "        text-align: right;\n",
       "    }\n",
       "</style>\n",
       "<table border=\"1\" class=\"dataframe\">\n",
       "  <thead>\n",
       "    <tr style=\"text-align: right;\">\n",
       "      <th></th>\n",
       "      <th>Year</th>\n",
       "      <th>State</th>\n",
       "      <th>StateID</th>\n",
       "      <th>Cases_per_million</th>\n",
       "      <th>StratificationCategory</th>\n",
       "      <th>Stratification</th>\n",
       "      <th>PM2.5</th>\n",
       "      <th>Ozone</th>\n",
       "    </tr>\n",
       "  </thead>\n",
       "  <tbody>\n",
       "    <tr>\n",
       "      <th>0</th>\n",
       "      <td>2012</td>\n",
       "      <td>Alabama</td>\n",
       "      <td>1</td>\n",
       "      <td>37.0</td>\n",
       "      <td>GENDER</td>\n",
       "      <td>GENF</td>\n",
       "      <td>10.377063</td>\n",
       "      <td>40.221021</td>\n",
       "    </tr>\n",
       "    <tr>\n",
       "      <th>1</th>\n",
       "      <td>2014</td>\n",
       "      <td>Alabama</td>\n",
       "      <td>1</td>\n",
       "      <td>22.0</td>\n",
       "      <td>GENDER</td>\n",
       "      <td>GENM</td>\n",
       "      <td>11.025839</td>\n",
       "      <td>37.455517</td>\n",
       "    </tr>\n",
       "    <tr>\n",
       "      <th>2</th>\n",
       "      <td>2011</td>\n",
       "      <td>Arizona</td>\n",
       "      <td>4</td>\n",
       "      <td>29.0</td>\n",
       "      <td>GENDER</td>\n",
       "      <td>GENM</td>\n",
       "      <td>7.957158</td>\n",
       "      <td>46.998399</td>\n",
       "    </tr>\n",
       "    <tr>\n",
       "      <th>3</th>\n",
       "      <td>2011</td>\n",
       "      <td>Florida</td>\n",
       "      <td>12</td>\n",
       "      <td>54.0</td>\n",
       "      <td>GENDER</td>\n",
       "      <td>GENM</td>\n",
       "      <td>7.952353</td>\n",
       "      <td>39.268946</td>\n",
       "    </tr>\n",
       "    <tr>\n",
       "      <th>6</th>\n",
       "      <td>2012</td>\n",
       "      <td>Iowa</td>\n",
       "      <td>19</td>\n",
       "      <td>22.0</td>\n",
       "      <td>GENDER</td>\n",
       "      <td>GENF</td>\n",
       "      <td>9.605033</td>\n",
       "      <td>40.029690</td>\n",
       "    </tr>\n",
       "    <tr>\n",
       "      <th>...</th>\n",
       "      <td>...</td>\n",
       "      <td>...</td>\n",
       "      <td>...</td>\n",
       "      <td>...</td>\n",
       "      <td>...</td>\n",
       "      <td>...</td>\n",
       "      <td>...</td>\n",
       "      <td>...</td>\n",
       "    </tr>\n",
       "    <tr>\n",
       "      <th>1852</th>\n",
       "      <td>2013</td>\n",
       "      <td>Mississippi</td>\n",
       "      <td>28</td>\n",
       "      <td>32.0</td>\n",
       "      <td>GENDER</td>\n",
       "      <td>GENM</td>\n",
       "      <td>9.233758</td>\n",
       "      <td>37.174921</td>\n",
       "    </tr>\n",
       "    <tr>\n",
       "      <th>1853</th>\n",
       "      <td>2014</td>\n",
       "      <td>Pennsylvania</td>\n",
       "      <td>42</td>\n",
       "      <td>96.0</td>\n",
       "      <td>GENDER</td>\n",
       "      <td>GENF</td>\n",
       "      <td>9.740089</td>\n",
       "      <td>37.581439</td>\n",
       "    </tr>\n",
       "    <tr>\n",
       "      <th>1854</th>\n",
       "      <td>2014</td>\n",
       "      <td>Tennessee</td>\n",
       "      <td>47</td>\n",
       "      <td>10.3</td>\n",
       "      <td>GENDER</td>\n",
       "      <td>GENF</td>\n",
       "      <td>9.888402</td>\n",
       "      <td>38.523415</td>\n",
       "    </tr>\n",
       "    <tr>\n",
       "      <th>1855</th>\n",
       "      <td>2014</td>\n",
       "      <td>Washington</td>\n",
       "      <td>53</td>\n",
       "      <td>93.0</td>\n",
       "      <td>OVERALL</td>\n",
       "      <td>OVR</td>\n",
       "      <td>8.104972</td>\n",
       "      <td>34.058800</td>\n",
       "    </tr>\n",
       "    <tr>\n",
       "      <th>1856</th>\n",
       "      <td>2012</td>\n",
       "      <td>New York</td>\n",
       "      <td>36</td>\n",
       "      <td>127.0</td>\n",
       "      <td>GENDER</td>\n",
       "      <td>GENM</td>\n",
       "      <td>9.062603</td>\n",
       "      <td>37.250896</td>\n",
       "    </tr>\n",
       "  </tbody>\n",
       "</table>\n",
       "<p>1836 rows × 8 columns</p>\n",
       "</div>"
      ],
      "text/plain": [
       "      Year         State  StateID  Cases_per_million StratificationCategory  \\\n",
       "0     2012       Alabama        1               37.0                 GENDER   \n",
       "1     2014       Alabama        1               22.0                 GENDER   \n",
       "2     2011       Arizona        4               29.0                 GENDER   \n",
       "3     2011       Florida       12               54.0                 GENDER   \n",
       "6     2012          Iowa       19               22.0                 GENDER   \n",
       "...    ...           ...      ...                ...                    ...   \n",
       "1852  2013   Mississippi       28               32.0                 GENDER   \n",
       "1853  2014  Pennsylvania       42               96.0                 GENDER   \n",
       "1854  2014     Tennessee       47               10.3                 GENDER   \n",
       "1855  2014    Washington       53               93.0                OVERALL   \n",
       "1856  2012      New York       36              127.0                 GENDER   \n",
       "\n",
       "     Stratification      PM2.5      Ozone  \n",
       "0              GENF  10.377063  40.221021  \n",
       "1              GENM  11.025839  37.455517  \n",
       "2              GENM   7.957158  46.998399  \n",
       "3              GENM   7.952353  39.268946  \n",
       "6              GENF   9.605033  40.029690  \n",
       "...             ...        ...        ...  \n",
       "1852           GENM   9.233758  37.174921  \n",
       "1853           GENF   9.740089  37.581439  \n",
       "1854           GENF   9.888402  38.523415  \n",
       "1855            OVR   8.104972  34.058800  \n",
       "1856           GENM   9.062603  37.250896  \n",
       "\n",
       "[1836 rows x 8 columns]"
      ]
     },
     "execution_count": 13,
     "metadata": {},
     "output_type": "execute_result"
    }
   ],
   "source": [
    "mortality_final"
   ]
  },
  {
   "cell_type": "code",
   "execution_count": 14,
   "metadata": {},
   "outputs": [
    {
     "data": {
      "text/plain": [
       "Text(0.5, 1.0, 'Prevalence VS Gender')"
      ]
     },
     "execution_count": 14,
     "metadata": {},
     "output_type": "execute_result"
    },
    {
     "data": {
      "image/png": "[encoded data removed]",
      "text/plain": [
       "<Figure size 1008x432 with 2 Axes>"
      ]
     },
     "metadata": {
      "needs_background": "light"
     },
     "output_type": "display_data"
    }
   ],
   "source": [
    "plt.figure(figsize = (14, 6))\n",
    "plt.subplot(1, 2, 1)\n",
    "mortality_gender = mortality_final[mortality_final['StratificationCategory'] == 'GENDER']\n",
    "sns.boxplot(x = 'Stratification', y = 'Cases_per_million', data = mortality_gender)\n",
    "plt.xlabel('Gender')\n",
    "plt.ylabel('Mortality cases per 1,000,000 people')\n",
    "plt.title('Mortality VS Gender')\n",
    "\n",
    "plt.subplot(1, 2, 2)\n",
    "prevalence_gender = prevalence_final[prevalence_final['StratificationCategory'] == 'GENDER']\n",
    "sns.boxplot(x = 'Stratification', y = 'Prevalence', data = prevalence_gender)\n",
    "plt.xlabel('Gender')\n",
    "plt.title('Prevalence VS Gender')"
   ]
  },
  {
   "cell_type": "markdown",
   "metadata": {},
   "source": [
    "From boxplots generated between mortality and prevalence vs gender, We observed female having both higher mortality rate and prevalence for asthma. We suspect a correlation between gender and asthma prevalence where female are more susceptible to the disease."
   ]
  },
  {
   "cell_type": "code",
   "execution_count": 15,
   "metadata": {},
   "outputs": [
    {
     "data": {
      "text/plain": [
       "Text(0.5, 1.0, 'Mortality rate for each year')"
      ]
     },
     "execution_count": 15,
     "metadata": {},
     "output_type": "execute_result"
    },
    {
     "data": {
      "image/png": "[encoded data removed]",
      "text/plain": [
       "<Figure size 1008x432 with 1 Axes>"
      ]
     },
     "metadata": {
      "needs_background": "light"
     },
     "output_type": "display_data"
    }
   ],
   "source": [
    "plt.figure(figsize = (14, 6))\n",
    "sns.barplot(x = 'Year', y = 'Cases_per_million', hue = 'Stratification', data = mortality_gender)\n",
    "plt.title('Mortality rate for each year')"
   ]
  },
  {
   "cell_type": "markdown",
   "metadata": {},
   "source": [
    "In examining the influence of year on asthma motality rate, we don't see obvious difference of pattern with varying years hence it is safe reason that year has little or no confounding impact on gender's casual relationship with mortality rate."
   ]
  },
  {
   "cell_type": "code",
   "execution_count": 16,
   "metadata": {},
   "outputs": [
    {
     "data": {
      "text/plain": [
       "Text(0.5, 1.0, 'Mortality rate for each year')"
      ]
     },
     "execution_count": 16,
     "metadata": {},
     "output_type": "execute_result"
    },
    {
     "data": {
      "image/png": "[encoded data removed]",
      "text/plain": [
       "<Figure size 1008x432 with 1 Axes>"
      ]
     },
     "metadata": {
      "needs_background": "light"
     },
     "output_type": "display_data"
    }
   ],
   "source": [
    "plt.figure(figsize = (14, 6))\n",
    "prevalence_gender = prevalence_final[prevalence_final['StratificationCategory'] == 'GENDER']\n",
    "sns.barplot(x = 'Year', y = 'Prevalence', hue = 'Stratification', data = prevalence_gender)\n",
    "plt.title('Mortality rate for each year')"
   ]
  },
  {
   "cell_type": "markdown",
   "metadata": {},
   "source": [
    "2) Asthma: Race"
   ]
  },
  {
   "cell_type": "markdown",
   "metadata": {},
   "source": [
    "In examining the influence of year on asthma prevalence, we don't see obvious difference of pattern with varying years hence it is safe reason that year has little or no confounding impact on gender's casual relationship with asthma prevalence."
   ]
  },
  {
   "cell_type": "code",
   "execution_count": 17,
   "metadata": {
    "scrolled": true
   },
   "outputs": [
    {
     "data": {
      "text/plain": [
       "Text(0.5, 1.0, 'Prevalence VS Race')"
      ]
     },
     "execution_count": 17,
     "metadata": {},
     "output_type": "execute_result"
    },
    {
     "data": {
      "image/png": "[encoded data removed]",
      "text/plain": [
       "<Figure size 1008x432 with 2 Axes>"
      ]
     },
     "metadata": {
      "needs_background": "light"
     },
     "output_type": "display_data"
    }
   ],
   "source": [
    "plt.figure(figsize = (14, 6))\n",
    "plt.subplot(1, 2, 1)\n",
    "mortality_race = mortality_final[mortality_final['StratificationCategory'] == 'RACE']\n",
    "sns.boxplot(x = 'Stratification', y = 'Cases_per_million', data = mortality_race)\n",
    "plt.xlabel('Race')\n",
    "plt.ylabel('Mortality cases per 1,000,000 people')\n",
    "plt.title('Mortality VS Race')\n",
    "\n",
    "plt.subplot(1, 2, 2)\n",
    "prevalence_race = prevalence_final[prevalence_final['StratificationCategory'] == 'RACE']\n",
    "sns.boxplot(x = 'Stratification', y = 'Prevalence', data = prevalence_race)\n",
    "plt.xlabel('Race')\n",
    "plt.title('Prevalence VS Race')"
   ]
  },
  {
   "cell_type": "markdown",
   "metadata": {},
   "source": [
    "When examining the boxplot between race and mortality rate, we see white (WHT) having the highest upperbound as well as outlier values. Black (BLK) has the smallest interquantile range while asian and pacific islanders (API) have the largest.\\\n",
    "When examining the boxplot between prevalance and race, we see multiracial (MRC) having the highest upperbound and outlier.\\\n",
    "One thing to note is that gender and race has no data reflecting their potential relationship hence when modeling, we either separate them or choose one."
   ]
  },
  {
   "cell_type": "markdown",
   "metadata": {},
   "source": [
    "3) Asthma: location/state"
   ]
  },
  {
   "cell_type": "code",
   "execution_count": 18,
   "metadata": {},
   "outputs": [
    {
     "data": {
      "text/plain": [
       "<AxesSubplot:xlabel='StateID', ylabel='Prevalence'>"
      ]
     },
     "execution_count": 18,
     "metadata": {},
     "output_type": "execute_result"
    },
    {
     "data": {
      "image/png": "[encoded data removed]",
      "text/plain": [
       "<Figure size 720x576 with 2 Axes>"
      ]
     },
     "metadata": {
      "needs_background": "light"
     },
     "output_type": "display_data"
    }
   ],
   "source": [
    "### Add into abbreviations\n",
    "plt.figure(figsize = (10, 8))\n",
    "\n",
    "plt.subplot(2, 1, 1)\n",
    "sns.barplot(x = 'StateID', y = 'Cases_per_million', data = mortality_final)\n",
    "\n",
    "plt.subplot(2, 1, 2)\n",
    "sns.barplot(x = 'StateID', y = 'Prevalence', data = prevalence_final)"
   ]
  },
  {
   "cell_type": "markdown",
   "metadata": {},
   "source": [
    "We see varying mortality/prevalence of asthma across states, thus we want to include state as a confounding variable when predicting future pm2.5/ozone level on asthma prevalence/mortality."
   ]
  },
  {
   "cell_type": "code",
   "execution_count": 44,
   "metadata": {},
   "outputs": [],
   "source": [
    "new = prevalence_race.groupby(['State','Stratification']).size().to_frame().reset_index().pivot(index='State', columns='Stratification', values=0).fillna(0)"
   ]
  },
  {
   "cell_type": "code",
   "execution_count": 47,
   "metadata": {},
   "outputs": [
    {
     "data": {
      "text/plain": [
       "<seaborn.matrix.ClusterGrid at 0x7f0fbc0aa8e0>"
      ]
     },
     "execution_count": 47,
     "metadata": {},
     "output_type": "execute_result"
    },
    {
     "data": {
      "image/png": "[encoded data removed]",
      "text/plain": [
       "<Figure size 720x720 with 4 Axes>"
      ]
     },
     "metadata": {
      "needs_background": "light"
     },
     "output_type": "display_data"
    }
   ],
   "source": [
    "sns.clustermap(new)"
   ]
  },
  {
   "cell_type": "markdown",
   "metadata": {},
   "source": [
    "From the clustered heatmap above, we see unequal distribution of race along different states. Thus, we are interested in examining the relationship between race and geography, which may both serve as a confounding variable to asthma prevalence/mortality."
   ]
  },
  {
   "cell_type": "markdown",
   "metadata": {},
   "source": [
    "4) PM2.5 and ozone"
   ]
  },
  {
   "cell_type": "code",
   "execution_count": 23,
   "metadata": {
    "scrolled": true
   },
   "outputs": [
    {
     "data": {
      "text/plain": [
       "<AxesSubplot:xlabel='PM2.5', ylabel='Ozone'>"
      ]
     },
     "execution_count": 23,
     "metadata": {},
     "output_type": "execute_result"
    },
    {
     "data": {
      "image/png": "[encoded data removed]",
      "text/plain": [
       "<Figure size 720x576 with 1 Axes>"
      ]
     },
     "metadata": {
      "needs_background": "light"
     },
     "output_type": "display_data"
    }
   ],
   "source": [
    "plt.figure(figsize = (10, 8))\n",
    "sns.scatterplot(x='PM2.5', y='Ozone', data=pm25_ozone, hue='Year')"
   ]
  },
  {
   "cell_type": "markdown",
   "metadata": {},
   "source": [
    "When examining the scatterplot between Ozone and pm2.5 level, we see no distinct relationship as shown by the ramdomized pattern. Thus, when evaluating their effects on prevalence of asthma, it is reasonable that we separate them into distinct random variables."
   ]
  },
  {
   "cell_type": "markdown",
   "metadata": {},
   "source": [
    "5) Asthma, PM2.5 and ozone"
   ]
  },
  {
   "cell_type": "code",
   "execution_count": 24,
   "metadata": {},
   "outputs": [
    {
     "data": {
      "text/plain": [
       "Text(0.5, 1.0, 'Prevalence VS Ozone level')"
      ]
     },
     "execution_count": 24,
     "metadata": {},
     "output_type": "execute_result"
    },
    {
     "data": {
      "image/png": "[encoded data removed]",
      "text/plain": [
       "<Figure size 1080x720 with 4 Axes>"
      ]
     },
     "metadata": {
      "needs_background": "light"
     },
     "output_type": "display_data"
    }
   ],
   "source": [
    "plt.figure(figsize = (15, 10))\n",
    "plt.subplot(2, 2, 1)\n",
    "sns.scatterplot(x='PM2.5', y='Cases_per_million', data=mortality_final)\n",
    "plt.title('Mortality cases VS PM2.5')\n",
    "\n",
    "plt.subplot(2, 2, 2)\n",
    "sns.scatterplot(x='Ozone', y='Cases_per_million', data=mortality_final)\n",
    "plt.title('Mortality cases VS Ozone level')\n",
    "\n",
    "plt.subplot(2, 2, 3)\n",
    "sns.scatterplot(x='PM2.5', y='Prevalence', data=prevalence_final)\n",
    "plt.title('Prevalence VS PM2.5')\n",
    "\n",
    "plt.subplot(2, 2, 4)\n",
    "sns.scatterplot(x='Ozone', y='Prevalence', data=prevalence_final)\n",
    "plt.title('Prevalence VS Ozone level')"
   ]
  },
  {
   "cell_type": "markdown",
   "metadata": {},
   "source": [
    "When examining the scatter plot above, we don't see clear pattern between prevalence of asthma/mortality rate versus onzone/pm2.5. However, there may exist various confounding variables that influence the overall trend, for example location(state), year, as well as gender and race."
   ]
  },
  {
   "cell_type": "code",
   "execution_count": null,
   "metadata": {},
   "outputs": [],
   "source": []
  },
  {
   "cell_type": "code",
   "execution_count": null,
   "metadata": {},
   "outputs": [],
   "source": []
  },
  {
   "cell_type": "code",
   "execution_count": null,
   "metadata": {},
   "outputs": [],
   "source": []
  },
  {
   "cell_type": "code",
   "execution_count": null,
   "metadata": {},
   "outputs": [],
   "source": []
  },
  {
   "cell_type": "code",
   "execution_count": null,
   "metadata": {},
   "outputs": [],
   "source": []
  },
  {
   "cell_type": "code",
   "execution_count": 25,
   "metadata": {},
   "outputs": [],
   "source": [
    "def data_clean(df):\n",
    "    a=df[\"StratificationCategory\"]\n",
    "    b=df[\"Stratification\"]\n",
    "    stratification_gender=b.array.copy()\n",
    "    stratification_race=b.array.copy()\n",
    "    i=0\n",
    "    while i<len(a):\n",
    "        if a.array[i]==\"Race/Ethnicity\":\n",
    "            stratification_race[i]==b.array[i]\n",
    "        else:\n",
    "            stratification_race[i]=0\n",
    "        if a.array[i]==\"Gender\":\n",
    "            stratification_gender[i]==b.array[i]\n",
    "        else:\n",
    "            stratification_gender[i]=0\n",
    "        i=i+1\n",
    "    df[\"Stratification_gender\"]=stratification_gender\n",
    "    df[\"Stratification_race\"]=stratification_race\n",
    "    "
   ]
  },
  {
   "cell_type": "markdown",
   "metadata": {},
   "source": [
    "# q2:'Emergency department visit rate for asthma'"
   ]
  },
  {
   "cell_type": "code",
   "execution_count": 26,
   "metadata": {},
   "outputs": [
    {
     "ename": "NameError",
     "evalue": "name 'asth' is not defined",
     "output_type": "error",
     "traceback": [
      "\u001b[0;31m---------------------------------------------------------------------------\u001b[0m",
      "\u001b[0;31mNameError\u001b[0m                                 Traceback (most recent call last)",
      "\u001b[0;32m/tmp/ipykernel_79/3663923718.py\u001b[0m in \u001b[0;36m<module>\u001b[0;34m\u001b[0m\n\u001b[0;32m----> 1\u001b[0;31m \u001b[0masthma_cleaned\u001b[0m \u001b[0;34m=\u001b[0m \u001b[0masth\u001b[0m\u001b[0;34m[\u001b[0m\u001b[0;34m[\u001b[0m\u001b[0;34m'YearStart'\u001b[0m\u001b[0;34m,\u001b[0m\u001b[0;34m'LocationDesc'\u001b[0m\u001b[0;34m,\u001b[0m\u001b[0;34m'Question'\u001b[0m\u001b[0;34m,\u001b[0m\u001b[0;34m'DataValue'\u001b[0m\u001b[0;34m,\u001b[0m\u001b[0;34m'StratificationCategory1'\u001b[0m\u001b[0;34m,\u001b[0m\u001b[0;34m'Stratification1'\u001b[0m\u001b[0;34m]\u001b[0m\u001b[0;34m]\u001b[0m\u001b[0;34m\u001b[0m\u001b[0;34m\u001b[0m\u001b[0m\n\u001b[0m\u001b[1;32m      2\u001b[0m \u001b[0masthma_cleaned\u001b[0m \u001b[0;34m=\u001b[0m \u001b[0masthma_cleaned\u001b[0m\u001b[0;34m[\u001b[0m\u001b[0masthma_cleaned\u001b[0m\u001b[0;34m[\u001b[0m\u001b[0;34m'Question'\u001b[0m\u001b[0;34m]\u001b[0m\u001b[0;34m==\u001b[0m\u001b[0;34m'Emergency department visit rate for asthma'\u001b[0m\u001b[0;34m]\u001b[0m\u001b[0;34m.\u001b[0m\u001b[0mdrop\u001b[0m\u001b[0;34m(\u001b[0m\u001b[0;34m[\u001b[0m\u001b[0;34m'Question'\u001b[0m\u001b[0;34m]\u001b[0m\u001b[0;34m,\u001b[0m\u001b[0maxis\u001b[0m\u001b[0;34m=\u001b[0m\u001b[0;36m1\u001b[0m\u001b[0;34m)\u001b[0m\u001b[0;34m\u001b[0m\u001b[0;34m\u001b[0m\u001b[0m\n\u001b[1;32m      3\u001b[0m \u001b[0masthma_cleaned\u001b[0m \u001b[0;34m=\u001b[0m \u001b[0masthma_cleaned\u001b[0m\u001b[0;34m[\u001b[0m\u001b[0;34m(\u001b[0m\u001b[0masthma_cleaned\u001b[0m\u001b[0;34m[\u001b[0m\u001b[0;34m'YearStart'\u001b[0m\u001b[0;34m]\u001b[0m\u001b[0;34m>=\u001b[0m\u001b[0;36m2011\u001b[0m\u001b[0;34m)\u001b[0m\u001b[0;34m&\u001b[0m\u001b[0;34m(\u001b[0m\u001b[0masthma_cleaned\u001b[0m\u001b[0;34m[\u001b[0m\u001b[0;34m'YearStart'\u001b[0m\u001b[0;34m]\u001b[0m\u001b[0;34m<=\u001b[0m\u001b[0;36m2014\u001b[0m\u001b[0;34m)\u001b[0m\u001b[0;34m]\u001b[0m\u001b[0;34m\u001b[0m\u001b[0;34m\u001b[0m\u001b[0m\n\u001b[1;32m      4\u001b[0m \u001b[0masthma_cleaned\u001b[0m \u001b[0;34m=\u001b[0m \u001b[0masthma_cleaned\u001b[0m\u001b[0;34m.\u001b[0m\u001b[0mrename\u001b[0m\u001b[0;34m(\u001b[0m\u001b[0mcolumns\u001b[0m\u001b[0;34m=\u001b[0m\u001b[0;34m{\u001b[0m\u001b[0;34m'YearStart'\u001b[0m\u001b[0;34m:\u001b[0m\u001b[0;34m'Year'\u001b[0m\u001b[0;34m,\u001b[0m\u001b[0;34m'LocationDesc'\u001b[0m\u001b[0;34m:\u001b[0m\u001b[0;34m'State'\u001b[0m\u001b[0;34m,\u001b[0m\u001b[0;34m'DataValue'\u001b[0m\u001b[0;34m:\u001b[0m\u001b[0;34m'Prevalance'\u001b[0m\u001b[0;34m,\u001b[0m\u001b[0;34m'StratificationCategory1'\u001b[0m\u001b[0;34m:\u001b[0m\u001b[0;34m'StratificationCategory'\u001b[0m\u001b[0;34m,\u001b[0m\u001b[0;34m'Stratification1'\u001b[0m\u001b[0;34m:\u001b[0m\u001b[0;34m'Stratification'\u001b[0m\u001b[0;34m}\u001b[0m\u001b[0;34m)\u001b[0m\u001b[0;34m\u001b[0m\u001b[0;34m\u001b[0m\u001b[0m\n\u001b[1;32m      5\u001b[0m \u001b[0masthma_sorted\u001b[0m \u001b[0;34m=\u001b[0m \u001b[0masthma_cleaned\u001b[0m\u001b[0;34m.\u001b[0m\u001b[0msort_values\u001b[0m\u001b[0;34m(\u001b[0m\u001b[0mby\u001b[0m\u001b[0;34m=\u001b[0m\u001b[0;34m[\u001b[0m\u001b[0;34m'Year'\u001b[0m\u001b[0;34m,\u001b[0m\u001b[0;34m'State'\u001b[0m\u001b[0;34m]\u001b[0m\u001b[0;34m)\u001b[0m\u001b[0;34m.\u001b[0m\u001b[0mfillna\u001b[0m\u001b[0;34m(\u001b[0m\u001b[0;36m0\u001b[0m\u001b[0;34m)\u001b[0m\u001b[0;34m\u001b[0m\u001b[0;34m\u001b[0m\u001b[0m\n",
      "\u001b[0;31mNameError\u001b[0m: name 'asth' is not defined"
     ]
    }
   ],
   "source": [
    "asthma_cleaned = asth[['YearStart','LocationDesc','Question','DataValue','StratificationCategory1','Stratification1']]\n",
    "asthma_cleaned = asthma_cleaned[asthma_cleaned['Question']=='Emergency department visit rate for asthma'].drop(['Question'],axis=1)\n",
    "asthma_cleaned = asthma_cleaned[(asthma_cleaned['YearStart']>=2011)&(asthma_cleaned['YearStart']<=2014)]\n",
    "asthma_cleaned = asthma_cleaned.rename(columns={'YearStart':'Year','LocationDesc':'State','DataValue':'Prevalance','StratificationCategory1':'StratificationCategory','Stratification1':'Stratification'})\n",
    "asthma_sorted = asthma_cleaned.sort_values(by=['Year','State']).fillna(0)\n",
    "data_clean(asthma_sorted)\n",
    "asthma_sorted2=asthma_sorted[[\"Year\",\"State\",\"Prevalance\",\"Stratification_gender\",\"Stratification_race\"]]\n",
    "asthma_sorted2"
   ]
  },
  {
   "cell_type": "markdown",
   "metadata": {},
   "source": [
    "# q3:'Hospitalizations for asthma'"
   ]
  },
  {
   "cell_type": "code",
   "execution_count": null,
   "metadata": {},
   "outputs": [],
   "source": [
    "asthma_cleaned = asth[['YearStart','LocationDesc','Question','DataValue','StratificationCategory1','Stratification1']]\n",
    "asthma_cleaned = asthma_cleaned[asthma_cleaned['Question']=='Hospitalizations for asthma'].drop(['Question'],axis=1)\n",
    "asthma_cleaned = asthma_cleaned[(asthma_cleaned['YearStart']>=2011)&(asthma_cleaned['YearStart']<=2014)]\n",
    "asthma_cleaned = asthma_cleaned.rename(columns={'YearStart':'Year','LocationDesc':'State','DataValue':'Prevalance','StratificationCategory1':'StratificationCategory','Stratification1':'Stratification'})\n",
    "asthma_sorted = asthma_cleaned.sort_values(by=['Year','State']).fillna(0)\n",
    "data_clean(asthma_sorted)\n",
    "asthma_sorted3=asthma_sorted[[\"Year\",\"State\",\"Prevalance\",\"Stratification_gender\",\"Stratification_race\"]]\n",
    "asthma_sorted3"
   ]
  },
  {
   "cell_type": "markdown",
   "metadata": {},
   "source": [
    "# q4:'Current asthma prevalence among adults aged >= 18 years'"
   ]
  },
  {
   "cell_type": "code",
   "execution_count": null,
   "metadata": {},
   "outputs": [],
   "source": [
    "asthma_cleaned = asth[['YearStart','LocationDesc','Question','DataValue','StratificationCategory1','Stratification1']]\n",
    "asthma_cleaned = asthma_cleaned[asthma_cleaned['Question']=='Current asthma prevalence among adults aged >= 18 years'].drop(['Question'],axis=1)\n",
    "asthma_cleaned = asthma_cleaned[(asthma_cleaned['YearStart']>=2011)&(asthma_cleaned['YearStart']<=2014)]\n",
    "asthma_cleaned = asthma_cleaned.rename(columns={'YearStart':'Year','LocationDesc':'State','DataValue':'Prevalance','StratificationCategory1':'StratificationCategory','Stratification1':'Stratification'})\n",
    "asthma_sorted = asthma_cleaned.sort_values(by=['Year','State']).fillna(0)\n",
    "data_clean(asthma_sorted)\n",
    "asthma_sorted4=asthma_sorted[[\"Year\",\"State\",\"Prevalance\",\"Stratification_gender\",\"Stratification_race\"]]\n",
    "asthma_sorted4"
   ]
  },
  {
   "cell_type": "markdown",
   "metadata": {},
   "source": [
    "# q5: 'Asthma prevalence among women aged 18-44 years'"
   ]
  },
  {
   "cell_type": "code",
   "execution_count": null,
   "metadata": {},
   "outputs": [],
   "source": [
    "asthma_cleaned = asth[['YearStart','LocationDesc','Question','DataValue','StratificationCategory1','Stratification1']]\n",
    "asthma_cleaned = asthma_cleaned[asthma_cleaned['Question']=='Asthma prevalence among women aged 18-44 years'].drop(['Question'],axis=1)\n",
    "asthma_cleaned = asthma_cleaned[(asthma_cleaned['YearStart']>=2011)&(asthma_cleaned['YearStart']<=2014)]\n",
    "asthma_cleaned = asthma_cleaned.rename(columns={'YearStart':'Year','LocationDesc':'State','DataValue':'Prevalance','StratificationCategory1':'StratificationCategory','Stratification1':'Stratification'})\n",
    "asthma_sorted = asthma_cleaned.sort_values(by=['Year','State']).fillna(0)\n",
    "data_clean(asthma_sorted)\n",
    "asthma_sorted5=asthma_sorted[[\"Year\",\"State\",\"Prevalance\",\"Stratification_gender\",\"Stratification_race\"]]\n",
    "asthma_sorted5"
   ]
  },
  {
   "cell_type": "markdown",
   "metadata": {},
   "source": [
    "# q6: 'Influenza vaccination among noninstitutionalized adults aged 18-64 years with asthma'"
   ]
  },
  {
   "cell_type": "code",
   "execution_count": null,
   "metadata": {},
   "outputs": [],
   "source": [
    "asthma_cleaned = asth[['YearStart','LocationDesc','Question','DataValue','StratificationCategory1','Stratification1']]\n",
    "asthma_cleaned = asthma_cleaned[asthma_cleaned['Question']=='Influenza vaccination among noninstitutionalized adults aged 18-64 years with asthma'].drop(['Question'],axis=1)\n",
    "asthma_cleaned = asthma_cleaned[(asthma_cleaned['YearStart']>=2011)&(asthma_cleaned['YearStart']<=2014)]\n",
    "asthma_cleaned = asthma_cleaned.rename(columns={'YearStart':'Year','LocationDesc':'State','DataValue':'Prevalance','StratificationCategory1':'StratificationCategory','Stratification1':'Stratification'})\n",
    "asthma_sorted = asthma_cleaned.sort_values(by=['Year','State']).fillna(0)\n",
    "data_clean(asthma_sorted)\n",
    "asthma_sorted6=asthma_sorted[[\"Year\",\"State\",\"Prevalance\",\"Stratification_gender\",\"Stratification_race\"]]\n",
    "asthma_sorted6"
   ]
  },
  {
   "cell_type": "markdown",
   "metadata": {},
   "source": [
    "# q7: 'Influenza vaccination among noninstitutionalized adults aged >= 65 years with asthma'"
   ]
  },
  {
   "cell_type": "code",
   "execution_count": null,
   "metadata": {},
   "outputs": [],
   "source": [
    "asthma_cleaned = asth[['YearStart','LocationDesc','Question','DataValue','StratificationCategory1','Stratification1']]\n",
    "asthma_cleaned = asthma_cleaned[asthma_cleaned['Question']=='Influenza vaccination among noninstitutionalized adults aged >= 65 years with asthma'].drop(['Question'],axis=1)\n",
    "asthma_cleaned = asthma_cleaned[(asthma_cleaned['YearStart']>=2011)&(asthma_cleaned['YearStart']<=2014)]\n",
    "asthma_cleaned = asthma_cleaned.rename(columns={'YearStart':'Year','LocationDesc':'State','DataValue':'Prevalance','StratificationCategory1':'StratificationCategory','Stratification1':'Stratification'})\n",
    "asthma_sorted = asthma_cleaned.sort_values(by=['Year','State']).fillna(0)\n",
    "data_clean(asthma_sorted)\n",
    "asthma_sorted7=asthma_sorted[[\"Year\",\"State\",\"Prevalance\",\"Stratification_gender\",\"Stratification_race\"]]\n",
    "asthma_sorted7"
   ]
  },
  {
   "cell_type": "markdown",
   "metadata": {},
   "source": [
    "# q8:'Pneumococcal vaccination among noninstitutionalized adults aged 18-64 years with asthma'"
   ]
  },
  {
   "cell_type": "code",
   "execution_count": null,
   "metadata": {},
   "outputs": [],
   "source": [
    "asthma_cleaned = asth[['YearStart','LocationDesc','Question','DataValue','StratificationCategory1','Stratification1']]\n",
    "asthma_cleaned = asthma_cleaned[asthma_cleaned['Question']=='Pneumococcal vaccination among noninstitutionalized adults aged 18-64 years with asthma'].drop(['Question'],axis=1)\n",
    "asthma_cleaned = asthma_cleaned[(asthma_cleaned['YearStart']>=2011)&(asthma_cleaned['YearStart']<=2014)]\n",
    "asthma_cleaned = asthma_cleaned.rename(columns={'YearStart':'Year','LocationDesc':'State','DataValue':'Prevalance','StratificationCategory1':'StratificationCategory','Stratification1':'Stratification'})\n",
    "asthma_sorted = asthma_cleaned.sort_values(by=['Year','State']).fillna(0)\n",
    "data_clean(asthma_sorted)\n",
    "asthma_sorted8=asthma_sorted[[\"Year\",\"State\",\"Prevalance\",\"Stratification_gender\",\"Stratification_race\"]]\n",
    "asthma_sorted8"
   ]
  },
  {
   "cell_type": "markdown",
   "metadata": {},
   "source": [
    "# q9: 'Pneumococcal vaccination among noninstitutionalized adults aged >= 65 years with asthma'"
   ]
  },
  {
   "cell_type": "code",
   "execution_count": null,
   "metadata": {},
   "outputs": [],
   "source": [
    "asthma_cleaned = asth[['YearStart','LocationDesc','Question','DataValue','StratificationCategory1','Stratification1']]\n",
    "asthma_cleaned = asthma_cleaned[asthma_cleaned['Question']=='Pneumococcal vaccination among noninstitutionalized adults aged >= 65 years with asthma'].drop(['Question'],axis=1)\n",
    "asthma_cleaned = asthma_cleaned[(asthma_cleaned['YearStart']>=2011)&(asthma_cleaned['YearStart']<=2014)]\n",
    "asthma_cleaned = asthma_cleaned.rename(columns={'YearStart':'Year','LocationDesc':'State','DataValue':'Prevalance','StratificationCategory1':'StratificationCategory','Stratification1':'Stratification'})\n",
    "asthma_sorted = asthma_cleaned.sort_values(by=['Year','State']).fillna(0)\n",
    "data_clean(asthma_sorted)\n",
    "asthma_sorted9=asthma_sorted[[\"Year\",\"State\",\"Prevalance\",\"Stratification_gender\",\"Stratification_race\"]]\n",
    "asthma_sorted9"
   ]
  },
  {
   "cell_type": "code",
   "execution_count": null,
   "metadata": {},
   "outputs": [],
   "source": []
  }
 ],
 "metadata": {
  "kernelspec": {
   "display_name": "Python 3 (ipykernel)",
   "language": "python",
   "name": "python3"
  },
  "language_info": {
   "codemirror_mode": {
    "name": "ipython",
    "version": 3
   },
   "file_extension": ".py",
   "mimetype": "text/x-python",
   "name": "python",
   "nbconvert_exporter": "python",
   "pygments_lexer": "ipython3",
   "version": "3.9.7"
  }
 },
 "nbformat": 4,
 "nbformat_minor": 4
}
